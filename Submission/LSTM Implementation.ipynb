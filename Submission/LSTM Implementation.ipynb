{
  "nbformat": 4,
  "nbformat_minor": 0,
  "metadata": {
    "colab": {
      "provenance": []
    },
    "kernelspec": {
      "name": "python3",
      "display_name": "Python 3"
    },
    "language_info": {
      "name": "python"
    }
  },
  "cells": [
    {
      "cell_type": "code",
      "execution_count": 57,
      "metadata": {
        "id": "V-zoO4LRlN7a"
      },
      "outputs": [],
      "source": [
        "import pandas as pd\n",
        "drought_df = pd.read_csv('/content/drought2012-2023.csv')"
      ]
    },
    {
      "cell_type": "code",
      "source": [
        "drought_df.head()"
      ],
      "metadata": {
        "colab": {
          "base_uri": "https://localhost:8080/",
          "height": 300
        },
        "id": "ylWUMhPoobdl",
        "outputId": "e8190f17-8a61-4d94-c8b2-2d4a900f1281"
      },
      "execution_count": 58,
      "outputs": [
        {
          "output_type": "execute_result",
          "data": {
            "text/plain": [
              "   YEAR  MONTH  DAY  STID    TMAX    TMIN    TAVG    DMAX    DMIN    DAVG  \\\n",
              "0  2012      1    1  ACME   54.16   31.71   42.35   30.33   16.05   24.39   \n",
              "1  2012      1    1  ADAX   55.78   34.42   44.48   32.55   17.12   24.95   \n",
              "2  2012      1    1  ALTU   53.19   31.49   41.37   29.75   13.47   23.10   \n",
              "3  2012      1    1  ALVA -999.00 -999.00 -999.00 -999.00 -999.00 -999.00   \n",
              "4  2012      1    1  ALV2   50.58   26.41   38.55   28.05   18.69   23.69   \n",
              "\n",
              "   ...  S60NO  S60BD      TR05  R05BD      TR25  R25BD      TR60  R60BD  TR75  \\\n",
              "0  ...   -999   -999    1.5364      0    1.4526      0    1.7743      0  -999   \n",
              "1  ...   -999   -999    1.4050      0    1.5394      0 -996.0000     48  -999   \n",
              "2  ...   -999   -999 -996.0000     48 -996.0000     48 -996.0000     48  -999   \n",
              "3  ...   -999   -999 -999.0000   -999 -999.0000   -999 -999.0000   -999  -999   \n",
              "4  ...   -999   -999    1.4445      0    1.4510      0 -996.0000     48  -999   \n",
              "\n",
              "   R75BD  \n",
              "0   -999  \n",
              "1   -999  \n",
              "2   -999  \n",
              "3   -999  \n",
              "4   -999  \n",
              "\n",
              "[5 rows x 118 columns]"
            ],
            "text/html": [
              "\n",
              "  <div id=\"df-ba373ec9-4a25-4708-b67b-d17d4fb1efc8\">\n",
              "    <div class=\"colab-df-container\">\n",
              "      <div>\n",
              "<style scoped>\n",
              "    .dataframe tbody tr th:only-of-type {\n",
              "        vertical-align: middle;\n",
              "    }\n",
              "\n",
              "    .dataframe tbody tr th {\n",
              "        vertical-align: top;\n",
              "    }\n",
              "\n",
              "    .dataframe thead th {\n",
              "        text-align: right;\n",
              "    }\n",
              "</style>\n",
              "<table border=\"1\" class=\"dataframe\">\n",
              "  <thead>\n",
              "    <tr style=\"text-align: right;\">\n",
              "      <th></th>\n",
              "      <th>YEAR</th>\n",
              "      <th>MONTH</th>\n",
              "      <th>DAY</th>\n",
              "      <th>STID</th>\n",
              "      <th>TMAX</th>\n",
              "      <th>TMIN</th>\n",
              "      <th>TAVG</th>\n",
              "      <th>DMAX</th>\n",
              "      <th>DMIN</th>\n",
              "      <th>DAVG</th>\n",
              "      <th>...</th>\n",
              "      <th>S60NO</th>\n",
              "      <th>S60BD</th>\n",
              "      <th>TR05</th>\n",
              "      <th>R05BD</th>\n",
              "      <th>TR25</th>\n",
              "      <th>R25BD</th>\n",
              "      <th>TR60</th>\n",
              "      <th>R60BD</th>\n",
              "      <th>TR75</th>\n",
              "      <th>R75BD</th>\n",
              "    </tr>\n",
              "  </thead>\n",
              "  <tbody>\n",
              "    <tr>\n",
              "      <th>0</th>\n",
              "      <td>2012</td>\n",
              "      <td>1</td>\n",
              "      <td>1</td>\n",
              "      <td>ACME</td>\n",
              "      <td>54.16</td>\n",
              "      <td>31.71</td>\n",
              "      <td>42.35</td>\n",
              "      <td>30.33</td>\n",
              "      <td>16.05</td>\n",
              "      <td>24.39</td>\n",
              "      <td>...</td>\n",
              "      <td>-999</td>\n",
              "      <td>-999</td>\n",
              "      <td>1.5364</td>\n",
              "      <td>0</td>\n",
              "      <td>1.4526</td>\n",
              "      <td>0</td>\n",
              "      <td>1.7743</td>\n",
              "      <td>0</td>\n",
              "      <td>-999</td>\n",
              "      <td>-999</td>\n",
              "    </tr>\n",
              "    <tr>\n",
              "      <th>1</th>\n",
              "      <td>2012</td>\n",
              "      <td>1</td>\n",
              "      <td>1</td>\n",
              "      <td>ADAX</td>\n",
              "      <td>55.78</td>\n",
              "      <td>34.42</td>\n",
              "      <td>44.48</td>\n",
              "      <td>32.55</td>\n",
              "      <td>17.12</td>\n",
              "      <td>24.95</td>\n",
              "      <td>...</td>\n",
              "      <td>-999</td>\n",
              "      <td>-999</td>\n",
              "      <td>1.4050</td>\n",
              "      <td>0</td>\n",
              "      <td>1.5394</td>\n",
              "      <td>0</td>\n",
              "      <td>-996.0000</td>\n",
              "      <td>48</td>\n",
              "      <td>-999</td>\n",
              "      <td>-999</td>\n",
              "    </tr>\n",
              "    <tr>\n",
              "      <th>2</th>\n",
              "      <td>2012</td>\n",
              "      <td>1</td>\n",
              "      <td>1</td>\n",
              "      <td>ALTU</td>\n",
              "      <td>53.19</td>\n",
              "      <td>31.49</td>\n",
              "      <td>41.37</td>\n",
              "      <td>29.75</td>\n",
              "      <td>13.47</td>\n",
              "      <td>23.10</td>\n",
              "      <td>...</td>\n",
              "      <td>-999</td>\n",
              "      <td>-999</td>\n",
              "      <td>-996.0000</td>\n",
              "      <td>48</td>\n",
              "      <td>-996.0000</td>\n",
              "      <td>48</td>\n",
              "      <td>-996.0000</td>\n",
              "      <td>48</td>\n",
              "      <td>-999</td>\n",
              "      <td>-999</td>\n",
              "    </tr>\n",
              "    <tr>\n",
              "      <th>3</th>\n",
              "      <td>2012</td>\n",
              "      <td>1</td>\n",
              "      <td>1</td>\n",
              "      <td>ALVA</td>\n",
              "      <td>-999.00</td>\n",
              "      <td>-999.00</td>\n",
              "      <td>-999.00</td>\n",
              "      <td>-999.00</td>\n",
              "      <td>-999.00</td>\n",
              "      <td>-999.00</td>\n",
              "      <td>...</td>\n",
              "      <td>-999</td>\n",
              "      <td>-999</td>\n",
              "      <td>-999.0000</td>\n",
              "      <td>-999</td>\n",
              "      <td>-999.0000</td>\n",
              "      <td>-999</td>\n",
              "      <td>-999.0000</td>\n",
              "      <td>-999</td>\n",
              "      <td>-999</td>\n",
              "      <td>-999</td>\n",
              "    </tr>\n",
              "    <tr>\n",
              "      <th>4</th>\n",
              "      <td>2012</td>\n",
              "      <td>1</td>\n",
              "      <td>1</td>\n",
              "      <td>ALV2</td>\n",
              "      <td>50.58</td>\n",
              "      <td>26.41</td>\n",
              "      <td>38.55</td>\n",
              "      <td>28.05</td>\n",
              "      <td>18.69</td>\n",
              "      <td>23.69</td>\n",
              "      <td>...</td>\n",
              "      <td>-999</td>\n",
              "      <td>-999</td>\n",
              "      <td>1.4445</td>\n",
              "      <td>0</td>\n",
              "      <td>1.4510</td>\n",
              "      <td>0</td>\n",
              "      <td>-996.0000</td>\n",
              "      <td>48</td>\n",
              "      <td>-999</td>\n",
              "      <td>-999</td>\n",
              "    </tr>\n",
              "  </tbody>\n",
              "</table>\n",
              "<p>5 rows × 118 columns</p>\n",
              "</div>\n",
              "      <button class=\"colab-df-convert\" onclick=\"convertToInteractive('df-ba373ec9-4a25-4708-b67b-d17d4fb1efc8')\"\n",
              "              title=\"Convert this dataframe to an interactive table.\"\n",
              "              style=\"display:none;\">\n",
              "        \n",
              "  <svg xmlns=\"http://www.w3.org/2000/svg\" height=\"24px\"viewBox=\"0 0 24 24\"\n",
              "       width=\"24px\">\n",
              "    <path d=\"M0 0h24v24H0V0z\" fill=\"none\"/>\n",
              "    <path d=\"M18.56 5.44l.94 2.06.94-2.06 2.06-.94-2.06-.94-.94-2.06-.94 2.06-2.06.94zm-11 1L8.5 8.5l.94-2.06 2.06-.94-2.06-.94L8.5 2.5l-.94 2.06-2.06.94zm10 10l.94 2.06.94-2.06 2.06-.94-2.06-.94-.94-2.06-.94 2.06-2.06.94z\"/><path d=\"M17.41 7.96l-1.37-1.37c-.4-.4-.92-.59-1.43-.59-.52 0-1.04.2-1.43.59L10.3 9.45l-7.72 7.72c-.78.78-.78 2.05 0 2.83L4 21.41c.39.39.9.59 1.41.59.51 0 1.02-.2 1.41-.59l7.78-7.78 2.81-2.81c.8-.78.8-2.07 0-2.86zM5.41 20L4 18.59l7.72-7.72 1.47 1.35L5.41 20z\"/>\n",
              "  </svg>\n",
              "      </button>\n",
              "      \n",
              "  <style>\n",
              "    .colab-df-container {\n",
              "      display:flex;\n",
              "      flex-wrap:wrap;\n",
              "      gap: 12px;\n",
              "    }\n",
              "\n",
              "    .colab-df-convert {\n",
              "      background-color: #E8F0FE;\n",
              "      border: none;\n",
              "      border-radius: 50%;\n",
              "      cursor: pointer;\n",
              "      display: none;\n",
              "      fill: #1967D2;\n",
              "      height: 32px;\n",
              "      padding: 0 0 0 0;\n",
              "      width: 32px;\n",
              "    }\n",
              "\n",
              "    .colab-df-convert:hover {\n",
              "      background-color: #E2EBFA;\n",
              "      box-shadow: 0px 1px 2px rgba(60, 64, 67, 0.3), 0px 1px 3px 1px rgba(60, 64, 67, 0.15);\n",
              "      fill: #174EA6;\n",
              "    }\n",
              "\n",
              "    [theme=dark] .colab-df-convert {\n",
              "      background-color: #3B4455;\n",
              "      fill: #D2E3FC;\n",
              "    }\n",
              "\n",
              "    [theme=dark] .colab-df-convert:hover {\n",
              "      background-color: #434B5C;\n",
              "      box-shadow: 0px 1px 3px 1px rgba(0, 0, 0, 0.15);\n",
              "      filter: drop-shadow(0px 1px 2px rgba(0, 0, 0, 0.3));\n",
              "      fill: #FFFFFF;\n",
              "    }\n",
              "  </style>\n",
              "\n",
              "      <script>\n",
              "        const buttonEl =\n",
              "          document.querySelector('#df-ba373ec9-4a25-4708-b67b-d17d4fb1efc8 button.colab-df-convert');\n",
              "        buttonEl.style.display =\n",
              "          google.colab.kernel.accessAllowed ? 'block' : 'none';\n",
              "\n",
              "        async function convertToInteractive(key) {\n",
              "          const element = document.querySelector('#df-ba373ec9-4a25-4708-b67b-d17d4fb1efc8');\n",
              "          const dataTable =\n",
              "            await google.colab.kernel.invokeFunction('convertToInteractive',\n",
              "                                                     [key], {});\n",
              "          if (!dataTable) return;\n",
              "\n",
              "          const docLinkHtml = 'Like what you see? Visit the ' +\n",
              "            '<a target=\"_blank\" href=https://colab.research.google.com/notebooks/data_table.ipynb>data table notebook</a>'\n",
              "            + ' to learn more about interactive tables.';\n",
              "          element.innerHTML = '';\n",
              "          dataTable['output_type'] = 'display_data';\n",
              "          await google.colab.output.renderOutput(dataTable, element);\n",
              "          const docLink = document.createElement('div');\n",
              "          docLink.innerHTML = docLinkHtml;\n",
              "          element.appendChild(docLink);\n",
              "        }\n",
              "      </script>\n",
              "    </div>\n",
              "  </div>\n",
              "  "
            ]
          },
          "metadata": {},
          "execution_count": 58
        }
      ]
    },
    {
      "cell_type": "code",
      "source": [
        "drought_df = drought_df[drought_df.STID == 'OKCE']"
      ],
      "metadata": {
        "id": "azbrMV82my9o"
      },
      "execution_count": 59,
      "outputs": []
    },
    {
      "cell_type": "code",
      "source": [
        "drought_df = drought_df.drop(['STID'],axis = 1)"
      ],
      "metadata": {
        "id": "nP0pFUb2WbWD"
      },
      "execution_count": 65,
      "outputs": []
    },
    {
      "cell_type": "code",
      "source": [
        "Missing_value_cols = []\n",
        "for col in drought_df.columns:\n",
        "  if (drought_df[col]< 0).any():\n",
        "    Missing_value_cols.append(col)"
      ],
      "metadata": {
        "id": "v5zolWYhRM3s"
      },
      "execution_count": 66,
      "outputs": []
    },
    {
      "cell_type": "code",
      "source": [
        "Missing_value_count = (drought_df[Missing_value_cols] < 0).sum().sort_values(ascending = False).to_frame()\n",
        "drop_cols = Missing_value_count[Missing_value_count[0] > drought_df.shape[0]/10].index.values\n",
        "\n",
        "## Dropping values having more than 10% of missing values\n",
        "drought_df = drought_df[set(drought_df.columns.values) - set(drop_cols)]\n",
        "# for col in Missing_value_cols:\n",
        "#   print((drought_df[col] < 0).sum())"
      ],
      "metadata": {
        "colab": {
          "base_uri": "https://localhost:8080/"
        },
        "id": "7fi1geuhTFF4",
        "outputId": "cfc1d469-411f-4e60-9481-558797e4eb84"
      },
      "execution_count": 67,
      "outputs": [
        {
          "output_type": "stream",
          "name": "stderr",
          "text": [
            "<ipython-input-67-2e192834410e>:5: FutureWarning: Passing a set as an indexer is deprecated and will raise in a future version. Use a list instead.\n",
            "  drought_df = drought_df[set(drought_df.columns.values) - set(drop_cols)]\n"
          ]
        }
      ]
    },
    {
      "cell_type": "code",
      "source": [
        "drought_df[drought_df < 0] = 0"
      ],
      "metadata": {
        "id": "njX7ktpzVqQ6"
      },
      "execution_count": 68,
      "outputs": []
    },
    {
      "cell_type": "code",
      "source": [
        "drought_df.shape"
      ],
      "metadata": {
        "colab": {
          "base_uri": "https://localhost:8080/"
        },
        "id": "Yt7Fn0yGWzKM",
        "outputId": "bfe8f6ad-8ce2-4b24-ed53-fbb2fabfeaaa"
      },
      "execution_count": 70,
      "outputs": [
        {
          "output_type": "execute_result",
          "data": {
            "text/plain": [
              "(4019, 84)"
            ]
          },
          "metadata": {},
          "execution_count": 70
        }
      ]
    },
    {
      "cell_type": "code",
      "source": [
        "# drought_df[drought_df < -990]\n",
        "# drought_df['RAIN']\n",
        "drought_df[(drought_df.drop(['STID'],axis = 1) < -900).any(axis= 1) == False)]"
      ],
      "metadata": {
        "colab": {
          "base_uri": "https://localhost:8080/",
          "height": 204
        },
        "id": "BPO_4UOFpmea",
        "outputId": "cbd44d2b-f286-41ff-ca52-9700803ada40"
      },
      "execution_count": 29,
      "outputs": [
        {
          "output_type": "error",
          "ename": "AttributeError",
          "evalue": "ignored",
          "traceback": [
            "\u001b[0;31m---------------------------------------------------------------------------\u001b[0m",
            "\u001b[0;31mAttributeError\u001b[0m                            Traceback (most recent call last)",
            "\u001b[0;32m<ipython-input-29-46871d68cf07>\u001b[0m in \u001b[0;36m<cell line: 3>\u001b[0;34m()\u001b[0m\n\u001b[1;32m      1\u001b[0m \u001b[0;31m# drought_df[drought_df < -990]\u001b[0m\u001b[0;34m\u001b[0m\u001b[0;34m\u001b[0m\u001b[0m\n\u001b[1;32m      2\u001b[0m \u001b[0;31m# drought_df['RAIN']\u001b[0m\u001b[0;34m\u001b[0m\u001b[0;34m\u001b[0m\u001b[0m\n\u001b[0;32m----> 3\u001b[0;31m \u001b[0mdrought_df\u001b[0m\u001b[0;34m[\u001b[0m\u001b[0;34m(\u001b[0m\u001b[0mdrought_df\u001b[0m\u001b[0;34m.\u001b[0m\u001b[0mdrop\u001b[0m\u001b[0;34m(\u001b[0m\u001b[0;34m[\u001b[0m\u001b[0;34m'STID'\u001b[0m\u001b[0;34m]\u001b[0m\u001b[0;34m,\u001b[0m\u001b[0maxis\u001b[0m \u001b[0;34m=\u001b[0m \u001b[0;36m1\u001b[0m\u001b[0;34m)\u001b[0m \u001b[0;34m<\u001b[0m \u001b[0;34m-\u001b[0m\u001b[0;36m900\u001b[0m\u001b[0;34m)\u001b[0m\u001b[0;34m.\u001b[0m\u001b[0many\u001b[0m\u001b[0;34m(\u001b[0m\u001b[0maxis\u001b[0m\u001b[0;34m=\u001b[0m \u001b[0;36m1\u001b[0m\u001b[0;34m)\u001b[0m \u001b[0;34m==\u001b[0m \u001b[0;32mFalse\u001b[0m\u001b[0;34m.\u001b[0m\u001b[0many\u001b[0m\u001b[0;34m(\u001b[0m\u001b[0;34m)\u001b[0m\u001b[0;34m]\u001b[0m\u001b[0;34m\u001b[0m\u001b[0;34m\u001b[0m\u001b[0m\n\u001b[0m",
            "\u001b[0;31mAttributeError\u001b[0m: 'bool' object has no attribute 'any'"
          ]
        }
      ]
    },
    {
      "cell_type": "code",
      "source": [
        " drought_df[drought_df < -990]"
      ],
      "metadata": {
        "id": "EU5KP4XULxyR"
      },
      "execution_count": null,
      "outputs": []
    },
    {
      "cell_type": "code",
      "source": [
        "geo_df = pd.read_csv('/content/geoinfo.csv')\n",
        "station_df = pd.read_excel('/content/stationIDtoCounty.xlsx')"
      ],
      "metadata": {
        "id": "MTtQeLanmQ7M"
      },
      "execution_count": null,
      "outputs": []
    },
    {
      "cell_type": "code",
      "source": [
        "geo_df[geo_df.stid == 'OKCE'] \n"
      ],
      "metadata": {
        "colab": {
          "base_uri": "https://localhost:8080/",
          "height": 110
        },
        "id": "nFN-1KOdoVu4",
        "outputId": "074bf5a6-8157-4c01-fa48-189203c78aac"
      },
      "execution_count": null,
      "outputs": [
        {
          "output_type": "execute_result",
          "data": {
            "text/plain": [
              "    stnm  stid                name           city  rang cdir      cnty  \\\n",
              "93   130  OKCE  Oklahoma City East  Oklahoma City   3.0    E  Oklahoma   \n",
              "\n",
              "        nlat      elon  elev  ...    A75   N75  BULK75  GRAV75  SAND75  \\\n",
              "93  35.47226 -97.46414   355  ...  0.337  1.51    1.56     0.0    83.7   \n",
              "\n",
              "    SILT75  CLAY75      TEXT75      datc      datd  \n",
              "93     7.5     8.8  Loamy Sand  20070420  20991231  \n",
              "\n",
              "[1 rows x 64 columns]"
            ],
            "text/html": [
              "\n",
              "  <div id=\"df-30b63740-5a96-46b7-bffc-c2ec83020772\">\n",
              "    <div class=\"colab-df-container\">\n",
              "      <div>\n",
              "<style scoped>\n",
              "    .dataframe tbody tr th:only-of-type {\n",
              "        vertical-align: middle;\n",
              "    }\n",
              "\n",
              "    .dataframe tbody tr th {\n",
              "        vertical-align: top;\n",
              "    }\n",
              "\n",
              "    .dataframe thead th {\n",
              "        text-align: right;\n",
              "    }\n",
              "</style>\n",
              "<table border=\"1\" class=\"dataframe\">\n",
              "  <thead>\n",
              "    <tr style=\"text-align: right;\">\n",
              "      <th></th>\n",
              "      <th>stnm</th>\n",
              "      <th>stid</th>\n",
              "      <th>name</th>\n",
              "      <th>city</th>\n",
              "      <th>rang</th>\n",
              "      <th>cdir</th>\n",
              "      <th>cnty</th>\n",
              "      <th>nlat</th>\n",
              "      <th>elon</th>\n",
              "      <th>elev</th>\n",
              "      <th>...</th>\n",
              "      <th>A75</th>\n",
              "      <th>N75</th>\n",
              "      <th>BULK75</th>\n",
              "      <th>GRAV75</th>\n",
              "      <th>SAND75</th>\n",
              "      <th>SILT75</th>\n",
              "      <th>CLAY75</th>\n",
              "      <th>TEXT75</th>\n",
              "      <th>datc</th>\n",
              "      <th>datd</th>\n",
              "    </tr>\n",
              "  </thead>\n",
              "  <tbody>\n",
              "    <tr>\n",
              "      <th>93</th>\n",
              "      <td>130</td>\n",
              "      <td>OKCE</td>\n",
              "      <td>Oklahoma City East</td>\n",
              "      <td>Oklahoma City</td>\n",
              "      <td>3.0</td>\n",
              "      <td>E</td>\n",
              "      <td>Oklahoma</td>\n",
              "      <td>35.47226</td>\n",
              "      <td>-97.46414</td>\n",
              "      <td>355</td>\n",
              "      <td>...</td>\n",
              "      <td>0.337</td>\n",
              "      <td>1.51</td>\n",
              "      <td>1.56</td>\n",
              "      <td>0.0</td>\n",
              "      <td>83.7</td>\n",
              "      <td>7.5</td>\n",
              "      <td>8.8</td>\n",
              "      <td>Loamy Sand</td>\n",
              "      <td>20070420</td>\n",
              "      <td>20991231</td>\n",
              "    </tr>\n",
              "  </tbody>\n",
              "</table>\n",
              "<p>1 rows × 64 columns</p>\n",
              "</div>\n",
              "      <button class=\"colab-df-convert\" onclick=\"convertToInteractive('df-30b63740-5a96-46b7-bffc-c2ec83020772')\"\n",
              "              title=\"Convert this dataframe to an interactive table.\"\n",
              "              style=\"display:none;\">\n",
              "        \n",
              "  <svg xmlns=\"http://www.w3.org/2000/svg\" height=\"24px\"viewBox=\"0 0 24 24\"\n",
              "       width=\"24px\">\n",
              "    <path d=\"M0 0h24v24H0V0z\" fill=\"none\"/>\n",
              "    <path d=\"M18.56 5.44l.94 2.06.94-2.06 2.06-.94-2.06-.94-.94-2.06-.94 2.06-2.06.94zm-11 1L8.5 8.5l.94-2.06 2.06-.94-2.06-.94L8.5 2.5l-.94 2.06-2.06.94zm10 10l.94 2.06.94-2.06 2.06-.94-2.06-.94-.94-2.06-.94 2.06-2.06.94z\"/><path d=\"M17.41 7.96l-1.37-1.37c-.4-.4-.92-.59-1.43-.59-.52 0-1.04.2-1.43.59L10.3 9.45l-7.72 7.72c-.78.78-.78 2.05 0 2.83L4 21.41c.39.39.9.59 1.41.59.51 0 1.02-.2 1.41-.59l7.78-7.78 2.81-2.81c.8-.78.8-2.07 0-2.86zM5.41 20L4 18.59l7.72-7.72 1.47 1.35L5.41 20z\"/>\n",
              "  </svg>\n",
              "      </button>\n",
              "      \n",
              "  <style>\n",
              "    .colab-df-container {\n",
              "      display:flex;\n",
              "      flex-wrap:wrap;\n",
              "      gap: 12px;\n",
              "    }\n",
              "\n",
              "    .colab-df-convert {\n",
              "      background-color: #E8F0FE;\n",
              "      border: none;\n",
              "      border-radius: 50%;\n",
              "      cursor: pointer;\n",
              "      display: none;\n",
              "      fill: #1967D2;\n",
              "      height: 32px;\n",
              "      padding: 0 0 0 0;\n",
              "      width: 32px;\n",
              "    }\n",
              "\n",
              "    .colab-df-convert:hover {\n",
              "      background-color: #E2EBFA;\n",
              "      box-shadow: 0px 1px 2px rgba(60, 64, 67, 0.3), 0px 1px 3px 1px rgba(60, 64, 67, 0.15);\n",
              "      fill: #174EA6;\n",
              "    }\n",
              "\n",
              "    [theme=dark] .colab-df-convert {\n",
              "      background-color: #3B4455;\n",
              "      fill: #D2E3FC;\n",
              "    }\n",
              "\n",
              "    [theme=dark] .colab-df-convert:hover {\n",
              "      background-color: #434B5C;\n",
              "      box-shadow: 0px 1px 3px 1px rgba(0, 0, 0, 0.15);\n",
              "      filter: drop-shadow(0px 1px 2px rgba(0, 0, 0, 0.3));\n",
              "      fill: #FFFFFF;\n",
              "    }\n",
              "  </style>\n",
              "\n",
              "      <script>\n",
              "        const buttonEl =\n",
              "          document.querySelector('#df-30b63740-5a96-46b7-bffc-c2ec83020772 button.colab-df-convert');\n",
              "        buttonEl.style.display =\n",
              "          google.colab.kernel.accessAllowed ? 'block' : 'none';\n",
              "\n",
              "        async function convertToInteractive(key) {\n",
              "          const element = document.querySelector('#df-30b63740-5a96-46b7-bffc-c2ec83020772');\n",
              "          const dataTable =\n",
              "            await google.colab.kernel.invokeFunction('convertToInteractive',\n",
              "                                                     [key], {});\n",
              "          if (!dataTable) return;\n",
              "\n",
              "          const docLinkHtml = 'Like what you see? Visit the ' +\n",
              "            '<a target=\"_blank\" href=https://colab.research.google.com/notebooks/data_table.ipynb>data table notebook</a>'\n",
              "            + ' to learn more about interactive tables.';\n",
              "          element.innerHTML = '';\n",
              "          dataTable['output_type'] = 'display_data';\n",
              "          await google.colab.output.renderOutput(dataTable, element);\n",
              "          const docLink = document.createElement('div');\n",
              "          docLink.innerHTML = docLinkHtml;\n",
              "          element.appendChild(docLink);\n",
              "        }\n",
              "      </script>\n",
              "    </div>\n",
              "  </div>\n",
              "  "
            ]
          },
          "metadata": {},
          "execution_count": 7
        }
      ]
    }
  ]
}