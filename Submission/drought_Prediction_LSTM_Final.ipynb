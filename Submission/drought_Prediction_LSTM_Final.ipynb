{
  "nbformat": 4,
  "nbformat_minor": 0,
  "metadata": {
    "colab": {
      "provenance": []
    },
    "kernelspec": {
      "name": "python3",
      "display_name": "Python 3"
    },
    "language_info": {
      "name": "python"
    }
  },
  "cells": [
    {
      "cell_type": "code",
      "execution_count": 137,
      "metadata": {
        "id": "mpTJxotZkPQ7"
      },
      "outputs": [],
      "source": [
        "import numpy as np\n",
        "import pandas as pd\n",
        "\n",
        "# Import matplotlib, seaborn for visualization\n",
        "import matplotlib.pyplot as plt\n",
        "import seaborn as sns\n",
        "import warnings\n",
        "warnings.simplefilter(action='ignore', category=FutureWarning)\n",
        "import pandas as pd\n",
        "import numpy as np\n",
        "import random"
      ]
    },
    {
      "cell_type": "code",
      "source": [
        "from math import sqrt\n",
        "from numpy import concatenate\n",
        "from pandas import read_csv\n",
        "from pandas import DataFrame\n",
        "from pandas import concat\n",
        "from keras.models import Sequential\n",
        "from keras.layers import Dense\n",
        "from keras.layers import LSTM"
      ],
      "metadata": {
        "id": "4OIwBQhukp69"
      },
      "execution_count": 138,
      "outputs": []
    },
    {
      "cell_type": "code",
      "source": [
        "df = pd.read_csv('drought2012-2023 (1).csv')"
      ],
      "metadata": {
        "id": "IGBPsN-oksSc"
      },
      "execution_count": 158,
      "outputs": []
    },
    {
      "cell_type": "code",
      "source": [
        "df.head()"
      ],
      "metadata": {
        "colab": {
          "base_uri": "https://localhost:8080/",
          "height": 280
        },
        "id": "vq4VdxJOkv8I",
        "outputId": "c1e6b1f1-1594-44a3-a560-72a100504654"
      },
      "execution_count": 159,
      "outputs": [
        {
          "output_type": "execute_result",
          "data": {
            "text/plain": [
              "   YEAR  MONTH  DAY  STID      TMAX      TMIN      TAVG      DMAX      DMIN  \\\n",
              "0  2012      1    1  ACME   54.1600   31.7100   42.3500   30.3300   16.0500   \n",
              "1  2012      1    1  ADAX   55.7800   34.4200   44.4800   32.5500   17.1200   \n",
              "2  2012      1    1  ALTU   53.1900   31.4900   41.3700   29.7500   13.4700   \n",
              "3  2012      1    1  ALVA -999.0000 -999.0000 -999.0000 -999.0000 -999.0000   \n",
              "4  2012      1    1  ALV2   50.5800   26.4100   38.5500   28.0500   18.6900   \n",
              "\n",
              "       DAVG  ...     S60NO     S60BD      TR05     R05BD      TR25     R25BD  \\\n",
              "0   24.3900  ... -999.0000 -999.0000    1.5364    0.0000    1.4526    0.0000   \n",
              "1   24.9500  ... -999.0000 -999.0000    1.4050    0.0000    1.5394    0.0000   \n",
              "2   23.1000  ... -999.0000 -999.0000 -996.0000   48.0000 -996.0000   48.0000   \n",
              "3 -999.0000  ... -999.0000 -999.0000 -999.0000 -999.0000 -999.0000 -999.0000   \n",
              "4   23.6900  ... -999.0000 -999.0000    1.4445    0.0000    1.4510    0.0000   \n",
              "\n",
              "       TR60     R60BD      TR75     R75BD  \n",
              "0    1.7743    0.0000 -999.0000 -999.0000  \n",
              "1 -996.0000   48.0000 -999.0000 -999.0000  \n",
              "2 -996.0000   48.0000 -999.0000 -999.0000  \n",
              "3 -999.0000 -999.0000 -999.0000 -999.0000  \n",
              "4 -996.0000   48.0000 -999.0000 -999.0000  \n",
              "\n",
              "[5 rows x 118 columns]"
            ],
            "text/html": [
              "\n",
              "  <div id=\"df-22fc2256-ad84-4f7d-bcc3-c8c3f2de0078\">\n",
              "    <div class=\"colab-df-container\">\n",
              "      <div>\n",
              "<style scoped>\n",
              "    .dataframe tbody tr th:only-of-type {\n",
              "        vertical-align: middle;\n",
              "    }\n",
              "\n",
              "    .dataframe tbody tr th {\n",
              "        vertical-align: top;\n",
              "    }\n",
              "\n",
              "    .dataframe thead th {\n",
              "        text-align: right;\n",
              "    }\n",
              "</style>\n",
              "<table border=\"1\" class=\"dataframe\">\n",
              "  <thead>\n",
              "    <tr style=\"text-align: right;\">\n",
              "      <th></th>\n",
              "      <th>YEAR</th>\n",
              "      <th>MONTH</th>\n",
              "      <th>DAY</th>\n",
              "      <th>STID</th>\n",
              "      <th>TMAX</th>\n",
              "      <th>TMIN</th>\n",
              "      <th>TAVG</th>\n",
              "      <th>DMAX</th>\n",
              "      <th>DMIN</th>\n",
              "      <th>DAVG</th>\n",
              "      <th>...</th>\n",
              "      <th>S60NO</th>\n",
              "      <th>S60BD</th>\n",
              "      <th>TR05</th>\n",
              "      <th>R05BD</th>\n",
              "      <th>TR25</th>\n",
              "      <th>R25BD</th>\n",
              "      <th>TR60</th>\n",
              "      <th>R60BD</th>\n",
              "      <th>TR75</th>\n",
              "      <th>R75BD</th>\n",
              "    </tr>\n",
              "  </thead>\n",
              "  <tbody>\n",
              "    <tr>\n",
              "      <th>0</th>\n",
              "      <td>2012</td>\n",
              "      <td>1</td>\n",
              "      <td>1</td>\n",
              "      <td>ACME</td>\n",
              "      <td>54.1600</td>\n",
              "      <td>31.7100</td>\n",
              "      <td>42.3500</td>\n",
              "      <td>30.3300</td>\n",
              "      <td>16.0500</td>\n",
              "      <td>24.3900</td>\n",
              "      <td>...</td>\n",
              "      <td>-999.0000</td>\n",
              "      <td>-999.0000</td>\n",
              "      <td>1.5364</td>\n",
              "      <td>0.0000</td>\n",
              "      <td>1.4526</td>\n",
              "      <td>0.0000</td>\n",
              "      <td>1.7743</td>\n",
              "      <td>0.0000</td>\n",
              "      <td>-999.0000</td>\n",
              "      <td>-999.0000</td>\n",
              "    </tr>\n",
              "    <tr>\n",
              "      <th>1</th>\n",
              "      <td>2012</td>\n",
              "      <td>1</td>\n",
              "      <td>1</td>\n",
              "      <td>ADAX</td>\n",
              "      <td>55.7800</td>\n",
              "      <td>34.4200</td>\n",
              "      <td>44.4800</td>\n",
              "      <td>32.5500</td>\n",
              "      <td>17.1200</td>\n",
              "      <td>24.9500</td>\n",
              "      <td>...</td>\n",
              "      <td>-999.0000</td>\n",
              "      <td>-999.0000</td>\n",
              "      <td>1.4050</td>\n",
              "      <td>0.0000</td>\n",
              "      <td>1.5394</td>\n",
              "      <td>0.0000</td>\n",
              "      <td>-996.0000</td>\n",
              "      <td>48.0000</td>\n",
              "      <td>-999.0000</td>\n",
              "      <td>-999.0000</td>\n",
              "    </tr>\n",
              "    <tr>\n",
              "      <th>2</th>\n",
              "      <td>2012</td>\n",
              "      <td>1</td>\n",
              "      <td>1</td>\n",
              "      <td>ALTU</td>\n",
              "      <td>53.1900</td>\n",
              "      <td>31.4900</td>\n",
              "      <td>41.3700</td>\n",
              "      <td>29.7500</td>\n",
              "      <td>13.4700</td>\n",
              "      <td>23.1000</td>\n",
              "      <td>...</td>\n",
              "      <td>-999.0000</td>\n",
              "      <td>-999.0000</td>\n",
              "      <td>-996.0000</td>\n",
              "      <td>48.0000</td>\n",
              "      <td>-996.0000</td>\n",
              "      <td>48.0000</td>\n",
              "      <td>-996.0000</td>\n",
              "      <td>48.0000</td>\n",
              "      <td>-999.0000</td>\n",
              "      <td>-999.0000</td>\n",
              "    </tr>\n",
              "    <tr>\n",
              "      <th>3</th>\n",
              "      <td>2012</td>\n",
              "      <td>1</td>\n",
              "      <td>1</td>\n",
              "      <td>ALVA</td>\n",
              "      <td>-999.0000</td>\n",
              "      <td>-999.0000</td>\n",
              "      <td>-999.0000</td>\n",
              "      <td>-999.0000</td>\n",
              "      <td>-999.0000</td>\n",
              "      <td>-999.0000</td>\n",
              "      <td>...</td>\n",
              "      <td>-999.0000</td>\n",
              "      <td>-999.0000</td>\n",
              "      <td>-999.0000</td>\n",
              "      <td>-999.0000</td>\n",
              "      <td>-999.0000</td>\n",
              "      <td>-999.0000</td>\n",
              "      <td>-999.0000</td>\n",
              "      <td>-999.0000</td>\n",
              "      <td>-999.0000</td>\n",
              "      <td>-999.0000</td>\n",
              "    </tr>\n",
              "    <tr>\n",
              "      <th>4</th>\n",
              "      <td>2012</td>\n",
              "      <td>1</td>\n",
              "      <td>1</td>\n",
              "      <td>ALV2</td>\n",
              "      <td>50.5800</td>\n",
              "      <td>26.4100</td>\n",
              "      <td>38.5500</td>\n",
              "      <td>28.0500</td>\n",
              "      <td>18.6900</td>\n",
              "      <td>23.6900</td>\n",
              "      <td>...</td>\n",
              "      <td>-999.0000</td>\n",
              "      <td>-999.0000</td>\n",
              "      <td>1.4445</td>\n",
              "      <td>0.0000</td>\n",
              "      <td>1.4510</td>\n",
              "      <td>0.0000</td>\n",
              "      <td>-996.0000</td>\n",
              "      <td>48.0000</td>\n",
              "      <td>-999.0000</td>\n",
              "      <td>-999.0000</td>\n",
              "    </tr>\n",
              "  </tbody>\n",
              "</table>\n",
              "<p>5 rows × 118 columns</p>\n",
              "</div>\n",
              "      <button class=\"colab-df-convert\" onclick=\"convertToInteractive('df-22fc2256-ad84-4f7d-bcc3-c8c3f2de0078')\"\n",
              "              title=\"Convert this dataframe to an interactive table.\"\n",
              "              style=\"display:none;\">\n",
              "        \n",
              "  <svg xmlns=\"http://www.w3.org/2000/svg\" height=\"24px\"viewBox=\"0 0 24 24\"\n",
              "       width=\"24px\">\n",
              "    <path d=\"M0 0h24v24H0V0z\" fill=\"none\"/>\n",
              "    <path d=\"M18.56 5.44l.94 2.06.94-2.06 2.06-.94-2.06-.94-.94-2.06-.94 2.06-2.06.94zm-11 1L8.5 8.5l.94-2.06 2.06-.94-2.06-.94L8.5 2.5l-.94 2.06-2.06.94zm10 10l.94 2.06.94-2.06 2.06-.94-2.06-.94-.94-2.06-.94 2.06-2.06.94z\"/><path d=\"M17.41 7.96l-1.37-1.37c-.4-.4-.92-.59-1.43-.59-.52 0-1.04.2-1.43.59L10.3 9.45l-7.72 7.72c-.78.78-.78 2.05 0 2.83L4 21.41c.39.39.9.59 1.41.59.51 0 1.02-.2 1.41-.59l7.78-7.78 2.81-2.81c.8-.78.8-2.07 0-2.86zM5.41 20L4 18.59l7.72-7.72 1.47 1.35L5.41 20z\"/>\n",
              "  </svg>\n",
              "      </button>\n",
              "      \n",
              "  <style>\n",
              "    .colab-df-container {\n",
              "      display:flex;\n",
              "      flex-wrap:wrap;\n",
              "      gap: 12px;\n",
              "    }\n",
              "\n",
              "    .colab-df-convert {\n",
              "      background-color: #E8F0FE;\n",
              "      border: none;\n",
              "      border-radius: 50%;\n",
              "      cursor: pointer;\n",
              "      display: none;\n",
              "      fill: #1967D2;\n",
              "      height: 32px;\n",
              "      padding: 0 0 0 0;\n",
              "      width: 32px;\n",
              "    }\n",
              "\n",
              "    .colab-df-convert:hover {\n",
              "      background-color: #E2EBFA;\n",
              "      box-shadow: 0px 1px 2px rgba(60, 64, 67, 0.3), 0px 1px 3px 1px rgba(60, 64, 67, 0.15);\n",
              "      fill: #174EA6;\n",
              "    }\n",
              "\n",
              "    [theme=dark] .colab-df-convert {\n",
              "      background-color: #3B4455;\n",
              "      fill: #D2E3FC;\n",
              "    }\n",
              "\n",
              "    [theme=dark] .colab-df-convert:hover {\n",
              "      background-color: #434B5C;\n",
              "      box-shadow: 0px 1px 3px 1px rgba(0, 0, 0, 0.15);\n",
              "      filter: drop-shadow(0px 1px 2px rgba(0, 0, 0, 0.3));\n",
              "      fill: #FFFFFF;\n",
              "    }\n",
              "  </style>\n",
              "\n",
              "      <script>\n",
              "        const buttonEl =\n",
              "          document.querySelector('#df-22fc2256-ad84-4f7d-bcc3-c8c3f2de0078 button.colab-df-convert');\n",
              "        buttonEl.style.display =\n",
              "          google.colab.kernel.accessAllowed ? 'block' : 'none';\n",
              "\n",
              "        async function convertToInteractive(key) {\n",
              "          const element = document.querySelector('#df-22fc2256-ad84-4f7d-bcc3-c8c3f2de0078');\n",
              "          const dataTable =\n",
              "            await google.colab.kernel.invokeFunction('convertToInteractive',\n",
              "                                                     [key], {});\n",
              "          if (!dataTable) return;\n",
              "\n",
              "          const docLinkHtml = 'Like what you see? Visit the ' +\n",
              "            '<a target=\"_blank\" href=https://colab.research.google.com/notebooks/data_table.ipynb>data table notebook</a>'\n",
              "            + ' to learn more about interactive tables.';\n",
              "          element.innerHTML = '';\n",
              "          dataTable['output_type'] = 'display_data';\n",
              "          await google.colab.output.renderOutput(dataTable, element);\n",
              "          const docLink = document.createElement('div');\n",
              "          docLink.innerHTML = docLinkHtml;\n",
              "          element.appendChild(docLink);\n",
              "        }\n",
              "      </script>\n",
              "    </div>\n",
              "  </div>\n",
              "  "
            ]
          },
          "metadata": {},
          "execution_count": 159
        }
      ]
    },
    {
      "cell_type": "code",
      "source": [
        "df.shape"
      ],
      "metadata": {
        "colab": {
          "base_uri": "https://localhost:8080/"
        },
        "id": "MncmETjlmUKW",
        "outputId": "550b7459-428e-43f8-dfe4-95e9fc89d6c7"
      },
      "execution_count": 160,
      "outputs": [
        {
          "output_type": "execute_result",
          "data": {
            "text/plain": [
              "(556987, 118)"
            ]
          },
          "metadata": {},
          "execution_count": 160
        }
      ]
    },
    {
      "cell_type": "code",
      "source": [
        "df['datetime'] = pd.to_datetime(df[['YEAR', 'MONTH', 'DAY']])"
      ],
      "metadata": {
        "id": "llnohoDUkyS1"
      },
      "execution_count": 161,
      "outputs": []
    },
    {
      "cell_type": "code",
      "source": [
        "df_okce = df[(df[\"STID\"] == 'OKCE') & (df['RAIN']> -995)]"
      ],
      "metadata": {
        "id": "NyBuSOFEmQSb"
      },
      "execution_count": 162,
      "outputs": []
    },
    {
      "cell_type": "code",
      "source": [
        "df_okce.shape"
      ],
      "metadata": {
        "colab": {
          "base_uri": "https://localhost:8080/"
        },
        "id": "33RhYPinmhfO",
        "outputId": "2413405b-2cfb-4626-b145-9e3392ef51b0"
      },
      "execution_count": 163,
      "outputs": [
        {
          "output_type": "execute_result",
          "data": {
            "text/plain": [
              "(3885, 119)"
            ]
          },
          "metadata": {},
          "execution_count": 163
        }
      ]
    },
    {
      "cell_type": "code",
      "source": [
        "df_okce.set_index(\"datetime\", inplace=True)"
      ],
      "metadata": {
        "id": "FbtZ4smwm1IR"
      },
      "execution_count": 147,
      "outputs": []
    },
    {
      "cell_type": "code",
      "source": [
        "df_okce = df_okce.drop('STID', axis=1)"
      ],
      "metadata": {
        "id": "SopsOc8ZnIZv"
      },
      "execution_count": 164,
      "outputs": []
    },
    {
      "cell_type": "code",
      "source": [
        "import numpy as np\n",
        "import matplotlib.pyplot as plt\n",
        "import pandas as pd\n",
        "pd.set_option('display.float_format', lambda x: '%.4f' % x)\n",
        "import seaborn as sns\n",
        "sns.set_context(\"paper\", font_scale=1.3)\n",
        "sns.set_style('white')\n",
        "import warnings\n",
        "warnings.filterwarnings('ignore')\n",
        "from time import time\n",
        "import matplotlib.ticker as tkr\n",
        "from scipy import stats\n",
        "from statsmodels.tsa.stattools import adfuller\n",
        "from sklearn import preprocessing\n",
        "from statsmodels.tsa.stattools import pacf\n",
        "%matplotlib inline\n",
        "import math\n",
        "import keras\n",
        "from keras.models import Sequential\n",
        "from keras.layers import Dense\n",
        "from keras.layers import LSTM\n",
        "from keras.layers import Dropout\n",
        "from keras.layers import *\n",
        "from sklearn.preprocessing import MinMaxScaler\n",
        "from sklearn.metrics import mean_squared_error\n",
        "from sklearn.metrics import mean_absolute_error\n",
        "from keras.callbacks import EarlyStopping"
      ],
      "metadata": {
        "id": "rsRG6t3gqCAm"
      },
      "execution_count": 95,
      "outputs": []
    },
    {
      "cell_type": "code",
      "source": [
        "stat, p = stats.normaltest(df_okce.RAIN)\n",
        "print('Statistics=%.3f, p=%.3f' % (stat, p))\n",
        "alpha = 0.05\n",
        "if p > alpha:\n",
        "    print('Data looks Gaussian (fail to reject H0)')\n",
        "else:\n",
        "    print('Data does not look Gaussian (reject H0)')"
      ],
      "metadata": {
        "colab": {
          "base_uri": "https://localhost:8080/"
        },
        "id": "YJuTnyMJreRi",
        "outputId": "47913207-06cd-440b-d416-0b28ba5914dd"
      },
      "execution_count": 96,
      "outputs": [
        {
          "output_type": "stream",
          "name": "stdout",
          "text": [
            "Statistics=4180.049, p=0.000\n",
            "Data does not look Gaussian (reject H0)\n"
          ]
        }
      ]
    },
    {
      "cell_type": "code",
      "source": [
        "sns.distplot(df_okce.RAIN);\n",
        "print( 'Kurtosis of normal distribution: {}'.format(stats.kurtosis(df_okce.RAIN)))\n",
        "print( 'Skewness of normal distribution: {}'.format(stats.skew(df_okce.RAIN)))"
      ],
      "metadata": {
        "colab": {
          "base_uri": "https://localhost:8080/",
          "height": 491
        },
        "id": "ILFqFvzCry1x",
        "outputId": "7ace9a02-9796-4b01-ccc0-d783d3dff986"
      },
      "execution_count": 97,
      "outputs": [
        {
          "output_type": "stream",
          "name": "stdout",
          "text": [
            "Kurtosis of normal distribution: 39.75001950283436\n",
            "Skewness of normal distribution: 5.503732656400663\n"
          ]
        },
        {
          "output_type": "display_data",
          "data": {
            "text/plain": [
              "<Figure size 640x480 with 1 Axes>"
            ],
            "image/png": "[encoded data removed]"
          },
          "metadata": {}
        }
      ]
    },
    {
      "cell_type": "code",
      "source": [
        "df_okce.head()"
      ],
      "metadata": {
        "colab": {
          "base_uri": "https://localhost:8080/",
          "height": 236
        },
        "id": "-WJnjewisLNh",
        "outputId": "16aff461-4cc0-438c-cd68-369acf1fab9d"
      },
      "execution_count": 98,
      "outputs": [
        {
          "output_type": "execute_result",
          "data": {
            "text/plain": [
              "     YEAR  MONTH  DAY    TMAX    TMIN    TAVG    DMAX    DMIN    DAVG    HMAX  \\\n",
              "93   2012      1    1 50.7400 36.0000 43.1100 31.1300 20.0300 25.7100 68.4200   \n",
              "236  2012      1    2 44.0100 24.0600 34.5000 25.6100  6.9700 16.8400 79.6600   \n",
              "379  2012      1    3 59.2500 24.6400 42.7100 27.7000 15.7700 21.3600 82.3000   \n",
              "522  2012      1    4 58.7700 30.9300 44.8400 30.9400 23.8300 28.0400 83.1000   \n",
              "665  2012      1    5 66.5200 28.1500 48.8500 32.1600 22.9400 27.7400 90.7000   \n",
              "\n",
              "     ...     S60BD   TR05  R05BD   TR25  R25BD   TR60  R60BD      TR75  \\\n",
              "93   ... -999.0000 2.1989 0.0000 1.9472 0.0000 1.7269 0.0000 -999.0000   \n",
              "236  ... -999.0000 2.2615 0.0000 1.9817 0.0000 1.7346 0.0000 -999.0000   \n",
              "379  ... -999.0000 2.3137 0.0000 2.0139 0.0000 1.7476 0.0000 -999.0000   \n",
              "522  ... -999.0000 2.3675 0.0000 2.0433 0.0000 1.7589 0.0000 -999.0000   \n",
              "665  ... -999.0000 2.4333 0.0000 2.0717 0.0000 1.7689 0.0000 -999.0000   \n",
              "\n",
              "        R75BD   datetime  \n",
              "93  -999.0000 2012-01-01  \n",
              "236 -999.0000 2012-01-02  \n",
              "379 -999.0000 2012-01-03  \n",
              "522 -999.0000 2012-01-04  \n",
              "665 -999.0000 2012-01-05  \n",
              "\n",
              "[5 rows x 118 columns]"
            ],
            "text/html": [
              "\n",
              "  <div id=\"df-9191b533-305a-43b2-b5c2-d2ca4a5877c4\">\n",
              "    <div class=\"colab-df-container\">\n",
              "      <div>\n",
              "<style scoped>\n",
              "    .dataframe tbody tr th:only-of-type {\n",
              "        vertical-align: middle;\n",
              "    }\n",
              "\n",
              "    .dataframe tbody tr th {\n",
              "        vertical-align: top;\n",
              "    }\n",
              "\n",
              "    .dataframe thead th {\n",
              "        text-align: right;\n",
              "    }\n",
              "</style>\n",
              "<table border=\"1\" class=\"dataframe\">\n",
              "  <thead>\n",
              "    <tr style=\"text-align: right;\">\n",
              "      <th></th>\n",
              "      <th>YEAR</th>\n",
              "      <th>MONTH</th>\n",
              "      <th>DAY</th>\n",
              "      <th>TMAX</th>\n",
              "      <th>TMIN</th>\n",
              "      <th>TAVG</th>\n",
              "      <th>DMAX</th>\n",
              "      <th>DMIN</th>\n",
              "      <th>DAVG</th>\n",
              "      <th>HMAX</th>\n",
              "      <th>...</th>\n",
              "      <th>S60BD</th>\n",
              "      <th>TR05</th>\n",
              "      <th>R05BD</th>\n",
              "      <th>TR25</th>\n",
              "      <th>R25BD</th>\n",
              "      <th>TR60</th>\n",
              "      <th>R60BD</th>\n",
              "      <th>TR75</th>\n",
              "      <th>R75BD</th>\n",
              "      <th>datetime</th>\n",
              "    </tr>\n",
              "  </thead>\n",
              "  <tbody>\n",
              "    <tr>\n",
              "      <th>93</th>\n",
              "      <td>2012</td>\n",
              "      <td>1</td>\n",
              "      <td>1</td>\n",
              "      <td>50.7400</td>\n",
              "      <td>36.0000</td>\n",
              "      <td>43.1100</td>\n",
              "      <td>31.1300</td>\n",
              "      <td>20.0300</td>\n",
              "      <td>25.7100</td>\n",
              "      <td>68.4200</td>\n",
              "      <td>...</td>\n",
              "      <td>-999.0000</td>\n",
              "      <td>2.1989</td>\n",
              "      <td>0.0000</td>\n",
              "      <td>1.9472</td>\n",
              "      <td>0.0000</td>\n",
              "      <td>1.7269</td>\n",
              "      <td>0.0000</td>\n",
              "      <td>-999.0000</td>\n",
              "      <td>-999.0000</td>\n",
              "      <td>2012-01-01</td>\n",
              "    </tr>\n",
              "    <tr>\n",
              "      <th>236</th>\n",
              "      <td>2012</td>\n",
              "      <td>1</td>\n",
              "      <td>2</td>\n",
              "      <td>44.0100</td>\n",
              "      <td>24.0600</td>\n",
              "      <td>34.5000</td>\n",
              "      <td>25.6100</td>\n",
              "      <td>6.9700</td>\n",
              "      <td>16.8400</td>\n",
              "      <td>79.6600</td>\n",
              "      <td>...</td>\n",
              "      <td>-999.0000</td>\n",
              "      <td>2.2615</td>\n",
              "      <td>0.0000</td>\n",
              "      <td>1.9817</td>\n",
              "      <td>0.0000</td>\n",
              "      <td>1.7346</td>\n",
              "      <td>0.0000</td>\n",
              "      <td>-999.0000</td>\n",
              "      <td>-999.0000</td>\n",
              "      <td>2012-01-02</td>\n",
              "    </tr>\n",
              "    <tr>\n",
              "      <th>379</th>\n",
              "      <td>2012</td>\n",
              "      <td>1</td>\n",
              "      <td>3</td>\n",
              "      <td>59.2500</td>\n",
              "      <td>24.6400</td>\n",
              "      <td>42.7100</td>\n",
              "      <td>27.7000</td>\n",
              "      <td>15.7700</td>\n",
              "      <td>21.3600</td>\n",
              "      <td>82.3000</td>\n",
              "      <td>...</td>\n",
              "      <td>-999.0000</td>\n",
              "      <td>2.3137</td>\n",
              "      <td>0.0000</td>\n",
              "      <td>2.0139</td>\n",
              "      <td>0.0000</td>\n",
              "      <td>1.7476</td>\n",
              "      <td>0.0000</td>\n",
              "      <td>-999.0000</td>\n",
              "      <td>-999.0000</td>\n",
              "      <td>2012-01-03</td>\n",
              "    </tr>\n",
              "    <tr>\n",
              "      <th>522</th>\n",
              "      <td>2012</td>\n",
              "      <td>1</td>\n",
              "      <td>4</td>\n",
              "      <td>58.7700</td>\n",
              "      <td>30.9300</td>\n",
              "      <td>44.8400</td>\n",
              "      <td>30.9400</td>\n",
              "      <td>23.8300</td>\n",
              "      <td>28.0400</td>\n",
              "      <td>83.1000</td>\n",
              "      <td>...</td>\n",
              "      <td>-999.0000</td>\n",
              "      <td>2.3675</td>\n",
              "      <td>0.0000</td>\n",
              "      <td>2.0433</td>\n",
              "      <td>0.0000</td>\n",
              "      <td>1.7589</td>\n",
              "      <td>0.0000</td>\n",
              "      <td>-999.0000</td>\n",
              "      <td>-999.0000</td>\n",
              "      <td>2012-01-04</td>\n",
              "    </tr>\n",
              "    <tr>\n",
              "      <th>665</th>\n",
              "      <td>2012</td>\n",
              "      <td>1</td>\n",
              "      <td>5</td>\n",
              "      <td>66.5200</td>\n",
              "      <td>28.1500</td>\n",
              "      <td>48.8500</td>\n",
              "      <td>32.1600</td>\n",
              "      <td>22.9400</td>\n",
              "      <td>27.7400</td>\n",
              "      <td>90.7000</td>\n",
              "      <td>...</td>\n",
              "      <td>-999.0000</td>\n",
              "      <td>2.4333</td>\n",
              "      <td>0.0000</td>\n",
              "      <td>2.0717</td>\n",
              "      <td>0.0000</td>\n",
              "      <td>1.7689</td>\n",
              "      <td>0.0000</td>\n",
              "      <td>-999.0000</td>\n",
              "      <td>-999.0000</td>\n",
              "      <td>2012-01-05</td>\n",
              "    </tr>\n",
              "  </tbody>\n",
              "</table>\n",
              "<p>5 rows × 118 columns</p>\n",
              "</div>\n",
              "      <button class=\"colab-df-convert\" onclick=\"convertToInteractive('df-9191b533-305a-43b2-b5c2-d2ca4a5877c4')\"\n",
              "              title=\"Convert this dataframe to an interactive table.\"\n",
              "              style=\"display:none;\">\n",
              "        \n",
              "  <svg xmlns=\"http://www.w3.org/2000/svg\" height=\"24px\"viewBox=\"0 0 24 24\"\n",
              "       width=\"24px\">\n",
              "    <path d=\"M0 0h24v24H0V0z\" fill=\"none\"/>\n",
              "    <path d=\"M18.56 5.44l.94 2.06.94-2.06 2.06-.94-2.06-.94-.94-2.06-.94 2.06-2.06.94zm-11 1L8.5 8.5l.94-2.06 2.06-.94-2.06-.94L8.5 2.5l-.94 2.06-2.06.94zm10 10l.94 2.06.94-2.06 2.06-.94-2.06-.94-.94-2.06-.94 2.06-2.06.94z\"/><path d=\"M17.41 7.96l-1.37-1.37c-.4-.4-.92-.59-1.43-.59-.52 0-1.04.2-1.43.59L10.3 9.45l-7.72 7.72c-.78.78-.78 2.05 0 2.83L4 21.41c.39.39.9.59 1.41.59.51 0 1.02-.2 1.41-.59l7.78-7.78 2.81-2.81c.8-.78.8-2.07 0-2.86zM5.41 20L4 18.59l7.72-7.72 1.47 1.35L5.41 20z\"/>\n",
              "  </svg>\n",
              "      </button>\n",
              "      \n",
              "  <style>\n",
              "    .colab-df-container {\n",
              "      display:flex;\n",
              "      flex-wrap:wrap;\n",
              "      gap: 12px;\n",
              "    }\n",
              "\n",
              "    .colab-df-convert {\n",
              "      background-color: #E8F0FE;\n",
              "      border: none;\n",
              "      border-radius: 50%;\n",
              "      cursor: pointer;\n",
              "      display: none;\n",
              "      fill: #1967D2;\n",
              "      height: 32px;\n",
              "      padding: 0 0 0 0;\n",
              "      width: 32px;\n",
              "    }\n",
              "\n",
              "    .colab-df-convert:hover {\n",
              "      background-color: #E2EBFA;\n",
              "      box-shadow: 0px 1px 2px rgba(60, 64, 67, 0.3), 0px 1px 3px 1px rgba(60, 64, 67, 0.15);\n",
              "      fill: #174EA6;\n",
              "    }\n",
              "\n",
              "    [theme=dark] .colab-df-convert {\n",
              "      background-color: #3B4455;\n",
              "      fill: #D2E3FC;\n",
              "    }\n",
              "\n",
              "    [theme=dark] .colab-df-convert:hover {\n",
              "      background-color: #434B5C;\n",
              "      box-shadow: 0px 1px 3px 1px rgba(0, 0, 0, 0.15);\n",
              "      filter: drop-shadow(0px 1px 2px rgba(0, 0, 0, 0.3));\n",
              "      fill: #FFFFFF;\n",
              "    }\n",
              "  </style>\n",
              "\n",
              "      <script>\n",
              "        const buttonEl =\n",
              "          document.querySelector('#df-9191b533-305a-43b2-b5c2-d2ca4a5877c4 button.colab-df-convert');\n",
              "        buttonEl.style.display =\n",
              "          google.colab.kernel.accessAllowed ? 'block' : 'none';\n",
              "\n",
              "        async function convertToInteractive(key) {\n",
              "          const element = document.querySelector('#df-9191b533-305a-43b2-b5c2-d2ca4a5877c4');\n",
              "          const dataTable =\n",
              "            await google.colab.kernel.invokeFunction('convertToInteractive',\n",
              "                                                     [key], {});\n",
              "          if (!dataTable) return;\n",
              "\n",
              "          const docLinkHtml = 'Like what you see? Visit the ' +\n",
              "            '<a target=\"_blank\" href=https://colab.research.google.com/notebooks/data_table.ipynb>data table notebook</a>'\n",
              "            + ' to learn more about interactive tables.';\n",
              "          element.innerHTML = '';\n",
              "          dataTable['output_type'] = 'display_data';\n",
              "          await google.colab.output.renderOutput(dataTable, element);\n",
              "          const docLink = document.createElement('div');\n",
              "          docLink.innerHTML = docLinkHtml;\n",
              "          element.appendChild(docLink);\n",
              "        }\n",
              "      </script>\n",
              "    </div>\n",
              "  </div>\n",
              "  "
            ]
          },
          "metadata": {},
          "execution_count": 98
        }
      ]
    },
    {
      "cell_type": "code",
      "source": [
        "df1=df_okce.loc[:,['datetime','RAIN']]\n",
        "df1.set_index('datetime',inplace=True)\n",
        "df1.plot(figsize=(12,5))\n",
        "plt.ylabel('RAIN')\n",
        "plt.legend().set_visible(False)\n",
        "plt.tight_layout()\n",
        "sns.despine(top=True)\n",
        "plt.show();"
      ],
      "metadata": {
        "colab": {
          "base_uri": "https://localhost:8080/",
          "height": 499
        },
        "id": "M_33U7yur6on",
        "outputId": "cb2ec186-99b6-4a35-973a-18514d0d7d59"
      },
      "execution_count": 99,
      "outputs": [
        {
          "output_type": "display_data",
          "data": {
            "text/plain": [
              "<Figure size 1200x500 with 1 Axes>"
            ],
            "image/png": "[encoded data removed]"
          },
          "metadata": {}
        }
      ]
    },
    {
      "cell_type": "code",
      "source": [
        "plt.figure(figsize=(14,5))\n",
        "plt.subplot(1,2,1)\n",
        "plt.subplots_adjust(wspace=0.2)\n",
        "sns.boxplot(x=\"YEAR\", y=\"RAIN\", data=df_okce)\n",
        "plt.xlabel('YEAR')\n",
        "plt.title('Box plot of Yearly Rain')\n",
        "sns.despine(left=True)\n",
        "plt.tight_layout()\n",
        "plt.subplot(1,2,2)\n",
        "sns.boxplot(x=\"MONTH\", y=\"RAIN\", data=df_okce)\n",
        "plt.xlabel('MONTH')\n",
        "plt.title('Box plot of Monthly Rain')\n",
        "sns.despine(left=True)\n",
        "plt.tight_layout();"
      ],
      "metadata": {
        "colab": {
          "base_uri": "https://localhost:8080/",
          "height": 499
        },
        "id": "Q9QzpNjisEyz",
        "outputId": "c65e7b5c-ba21-45f6-bea9-64433ac6e91d"
      },
      "execution_count": 101,
      "outputs": [
        {
          "output_type": "display_data",
          "data": {
            "text/plain": [
              "<Figure size 1400x500 with 2 Axes>"
            ],
            "image/png": "[encoded data removed]"
          },
          "metadata": {}
        }
      ]
    },
    {
      "cell_type": "code",
      "source": [
        "dataset = df_okce.RAIN.values #numpy.ndarray\n",
        "dataset = dataset.astype('float32')\n",
        "dataset = np.reshape(dataset, (-1, 1))\n",
        "scaler = MinMaxScaler(feature_range=(0, 1))\n",
        "dataset = scaler.fit_transform(dataset)\n",
        "train_size = int(len(dataset) * 0.80)\n",
        "test_size = len(dataset) - train_size\n",
        "train, test = dataset[0:train_size,:], dataset[train_size:len(dataset),:]\n",
        "\n",
        "def create_dataset(dataset, look_back=1):\n",
        "    X, Y = [], []\n",
        "    for i in range(len(dataset)-look_back-1):\n",
        "        a = dataset[i:(i+look_back), 0]\n",
        "        X.append(a)\n",
        "        Y.append(dataset[i + look_back, 0])\n",
        "    return np.array(X), np.array(Y)\n",
        "    \n",
        "look_back = 30\n",
        "X_train, Y_train = create_dataset(train, look_back)\n",
        "X_test, Y_test = create_dataset(test, look_back)\n",
        "\n",
        "# reshape input to be [samples, time steps, features]\n",
        "X_train = np.reshape(X_train, (X_train.shape[0], 1, X_train.shape[1]))\n",
        "X_test = np.reshape(X_test, (X_test.shape[0], 1, X_test.shape[1]))\n",
        "     "
      ],
      "metadata": {
        "id": "18q_81Rnscua"
      },
      "execution_count": 102,
      "outputs": []
    },
    {
      "cell_type": "code",
      "source": [
        "\n",
        "model = Sequential()\n",
        "model.add(LSTM(100, input_shape=(X_train.shape[1], X_train.shape[2])))\n",
        "model.add(Dropout(0.2))\n",
        "model.add(Dense(1))\n",
        "model.compile(loss='mean_squared_error', optimizer='adam')\n",
        "\n",
        "history = model.fit(X_train, Y_train, epochs=20, batch_size=70, validation_data=(X_test, Y_test), \n",
        "                    callbacks=[EarlyStopping(monitor='val_loss', patience=10)], verbose=1, shuffle=False)\n",
        "\n",
        "model.summary()"
      ],
      "metadata": {
        "colab": {
          "base_uri": "https://localhost:8080/"
        },
        "id": "yIpfOUUMuGOm",
        "outputId": "4ebfb92e-8e84-43ca-b986-09e1a321b652"
      },
      "execution_count": 103,
      "outputs": [
        {
          "output_type": "stream",
          "name": "stdout",
          "text": [
            "Epoch 1/20\n",
            "44/44 [==============================] - 5s 20ms/step - loss: 0.0058 - val_loss: 0.0052\n",
            "Epoch 2/20\n",
            "44/44 [==============================] - 0s 7ms/step - loss: 0.0057 - val_loss: 0.0051\n",
            "Epoch 3/20\n",
            "44/44 [==============================] - 0s 7ms/step - loss: 0.0056 - val_loss: 0.0051\n",
            "Epoch 4/20\n",
            "44/44 [==============================] - 0s 8ms/step - loss: 0.0056 - val_loss: 0.0051\n",
            "Epoch 5/20\n",
            "44/44 [==============================] - 0s 8ms/step - loss: 0.0056 - val_loss: 0.0051\n",
            "Epoch 6/20\n",
            "44/44 [==============================] - 0s 7ms/step - loss: 0.0056 - val_loss: 0.0051\n",
            "Epoch 7/20\n",
            "44/44 [==============================] - 0s 8ms/step - loss: 0.0056 - val_loss: 0.0051\n",
            "Epoch 8/20\n",
            "44/44 [==============================] - 0s 7ms/step - loss: 0.0056 - val_loss: 0.0051\n",
            "Epoch 9/20\n",
            "44/44 [==============================] - 0s 7ms/step - loss: 0.0056 - val_loss: 0.0051\n",
            "Epoch 10/20\n",
            "44/44 [==============================] - 0s 8ms/step - loss: 0.0056 - val_loss: 0.0051\n",
            "Epoch 11/20\n",
            "44/44 [==============================] - 0s 10ms/step - loss: 0.0056 - val_loss: 0.0051\n",
            "Epoch 12/20\n",
            "44/44 [==============================] - 0s 10ms/step - loss: 0.0056 - val_loss: 0.0051\n",
            "Epoch 13/20\n",
            "44/44 [==============================] - 1s 11ms/step - loss: 0.0056 - val_loss: 0.0051\n",
            "Epoch 14/20\n",
            "44/44 [==============================] - 0s 11ms/step - loss: 0.0056 - val_loss: 0.0051\n",
            "Epoch 15/20\n",
            "44/44 [==============================] - 0s 11ms/step - loss: 0.0056 - val_loss: 0.0051\n",
            "Epoch 16/20\n",
            "44/44 [==============================] - 0s 10ms/step - loss: 0.0056 - val_loss: 0.0051\n",
            "Epoch 17/20\n",
            "44/44 [==============================] - 0s 8ms/step - loss: 0.0056 - val_loss: 0.0051\n",
            "Epoch 18/20\n",
            "44/44 [==============================] - 0s 7ms/step - loss: 0.0056 - val_loss: 0.0051\n",
            "Epoch 19/20\n",
            "44/44 [==============================] - 0s 6ms/step - loss: 0.0056 - val_loss: 0.0051\n",
            "Epoch 20/20\n",
            "44/44 [==============================] - 0s 6ms/step - loss: 0.0056 - val_loss: 0.0051\n",
            "Model: \"sequential\"\n",
            "_________________________________________________________________\n",
            " Layer (type)                Output Shape              Param #   \n",
            "=================================================================\n",
            " lstm (LSTM)                 (None, 100)               52400     \n",
            "                                                                 \n",
            " dropout (Dropout)           (None, 100)               0         \n",
            "                                                                 \n",
            " dense (Dense)               (None, 1)                 101       \n",
            "                                                                 \n",
            "=================================================================\n",
            "Total params: 52,501\n",
            "Trainable params: 52,501\n",
            "Non-trainable params: 0\n",
            "_________________________________________________________________\n"
          ]
        }
      ]
    },
    {
      "cell_type": "code",
      "source": [
        "\n",
        "train_predict = model.predict(X_train)\n",
        "test_predict = model.predict(X_test)\n",
        "# invert predictions\n",
        "train_predict = scaler.inverse_transform(train_predict)\n",
        "Y_train = scaler.inverse_transform([Y_train])\n",
        "test_predict = scaler.inverse_transform(test_predict)\n",
        "Y_test = scaler.inverse_transform([Y_test])\n",
        "print('Train Mean Absolute Error:', mean_absolute_error(Y_train[0], train_predict[:,0]))\n",
        "print('Train Root Mean Squared Error:',np.sqrt(mean_squared_error(Y_train[0], train_predict[:,0])))\n",
        "print('Test Mean Absolute Error:', mean_absolute_error(Y_test[0], test_predict[:,0]))\n",
        "print('Test Root Mean Squared Error:',np.sqrt(mean_squared_error(Y_test[0], test_predict[:,0])))\n",
        "     "
      ],
      "metadata": {
        "colab": {
          "base_uri": "https://localhost:8080/"
        },
        "id": "-9gNfbyVuH1F",
        "outputId": "79d3ee0a-0256-4daf-b289-b361ecbbce12"
      },
      "execution_count": 104,
      "outputs": [
        {
          "output_type": "stream",
          "name": "stdout",
          "text": [
            "97/97 [==============================] - 2s 4ms/step\n",
            "24/24 [==============================] - 0s 3ms/step\n",
            "Train Mean Absolute Error: 0.18398624719254875\n",
            "Train Root Mean Squared Error: 0.3736978374058838\n",
            "Test Mean Absolute Error: 0.17648510240790163\n",
            "Test Root Mean Squared Error: 0.36016223036111517\n"
          ]
        }
      ]
    },
    {
      "cell_type": "code",
      "source": [
        "plt.figure(figsize=(8,4))\n",
        "plt.plot(history.history['loss'], label='Train Loss')\n",
        "plt.plot(history.history['val_loss'], label='Test Loss')\n",
        "plt.title('model loss')\n",
        "plt.ylabel('loss')\n",
        "plt.xlabel('epochs')\n",
        "plt.legend(loc='upper right')\n",
        "plt.show();"
      ],
      "metadata": {
        "colab": {
          "base_uri": "https://localhost:8080/",
          "height": 417
        },
        "id": "aL-aBKv5uOrd",
        "outputId": "9afac969-7b85-4339-897b-3dfc68ca3abd"
      },
      "execution_count": 105,
      "outputs": [
        {
          "output_type": "display_data",
          "data": {
            "text/plain": [
              "<Figure size 800x400 with 1 Axes>"
            ],
            "image/png": "[encoded data removed]"
          },
          "metadata": {}
        }
      ]
    },
    {
      "cell_type": "code",
      "source": [
        "\n",
        "aa=[x for x in range(200)]\n",
        "plt.figure(figsize=(8,4))\n",
        "plt.plot(aa, Y_test[0][:200], marker='.', label=\"actual\")\n",
        "plt.plot(aa, test_predict[:,0][:200], 'r', label=\"prediction\")\n",
        "# plt.tick_params(left=False, labelleft=True) #remove ticks\n",
        "plt.tight_layout()\n",
        "sns.despine(top=True)\n",
        "plt.subplots_adjust(left=0.07)\n",
        "plt.ylabel('RAIN', size=15)\n",
        "plt.xlabel('Time step', size=15)\n",
        "plt.legend(fontsize=15)\n",
        "plt.show();"
      ],
      "metadata": {
        "colab": {
          "base_uri": "https://localhost:8080/",
          "height": 425
        },
        "id": "NJGm0vjiuRh6",
        "outputId": "decfa0e3-23b7-4b17-9e80-4965e356cec1"
      },
      "execution_count": 106,
      "outputs": [
        {
          "output_type": "display_data",
          "data": {
            "text/plain": [
              "<Figure size 800x400 with 1 Axes>"
            ],
            "image/png": "[encoded data removed]"
          },
          "metadata": {}
        }
      ]
    },
    {
      "cell_type": "code",
      "source": [
        "df_okce.head()"
      ],
      "metadata": {
        "colab": {
          "base_uri": "https://localhost:8080/",
          "height": 267
        },
        "id": "34urIYYnMQiy",
        "outputId": "71bdd990-9a10-4c5c-a9b7-f6f99d1f38ce"
      },
      "execution_count": 184,
      "outputs": [
        {
          "output_type": "execute_result",
          "data": {
            "text/plain": [
              "            YEAR  MONTH  DAY    TMAX    TMIN    TAVG    DMAX    DMIN    DAVG  \\\n",
              "datetime                                                                       \n",
              "2012-01-01  2012      1    1 50.7400 36.0000 43.1100 31.1300 20.0300 25.7100   \n",
              "2012-01-02  2012      1    2 44.0100 24.0600 34.5000 25.6100  6.9700 16.8400   \n",
              "2012-01-03  2012      1    3 59.2500 24.6400 42.7100 27.7000 15.7700 21.3600   \n",
              "2012-01-04  2012      1    4 58.7700 30.9300 44.8400 30.9400 23.8300 28.0400   \n",
              "2012-01-05  2012      1    5 66.5200 28.1500 48.8500 32.1600 22.9400 27.7400   \n",
              "\n",
              "              HMAX  ...     S60NO     S60BD   TR05  R05BD   TR25  R25BD  \\\n",
              "datetime            ...                                                   \n",
              "2012-01-01 68.4200  ... -999.0000 -999.0000 2.1989 0.0000 1.9472 0.0000   \n",
              "2012-01-02 79.6600  ... -999.0000 -999.0000 2.2615 0.0000 1.9817 0.0000   \n",
              "2012-01-03 82.3000  ... -999.0000 -999.0000 2.3137 0.0000 2.0139 0.0000   \n",
              "2012-01-04 83.1000  ... -999.0000 -999.0000 2.3675 0.0000 2.0433 0.0000   \n",
              "2012-01-05 90.7000  ... -999.0000 -999.0000 2.4333 0.0000 2.0717 0.0000   \n",
              "\n",
              "             TR60  R60BD      TR75     R75BD  \n",
              "datetime                                      \n",
              "2012-01-01 1.7269 0.0000 -999.0000 -999.0000  \n",
              "2012-01-02 1.7346 0.0000 -999.0000 -999.0000  \n",
              "2012-01-03 1.7476 0.0000 -999.0000 -999.0000  \n",
              "2012-01-04 1.7589 0.0000 -999.0000 -999.0000  \n",
              "2012-01-05 1.7689 0.0000 -999.0000 -999.0000  \n",
              "\n",
              "[5 rows x 117 columns]"
            ],
            "text/html": [
              "\n",
              "  <div id=\"df-bce08a3b-6c4d-4245-ad61-5fc423b72fa0\">\n",
              "    <div class=\"colab-df-container\">\n",
              "      <div>\n",
              "<style scoped>\n",
              "    .dataframe tbody tr th:only-of-type {\n",
              "        vertical-align: middle;\n",
              "    }\n",
              "\n",
              "    .dataframe tbody tr th {\n",
              "        vertical-align: top;\n",
              "    }\n",
              "\n",
              "    .dataframe thead th {\n",
              "        text-align: right;\n",
              "    }\n",
              "</style>\n",
              "<table border=\"1\" class=\"dataframe\">\n",
              "  <thead>\n",
              "    <tr style=\"text-align: right;\">\n",
              "      <th></th>\n",
              "      <th>YEAR</th>\n",
              "      <th>MONTH</th>\n",
              "      <th>DAY</th>\n",
              "      <th>TMAX</th>\n",
              "      <th>TMIN</th>\n",
              "      <th>TAVG</th>\n",
              "      <th>DMAX</th>\n",
              "      <th>DMIN</th>\n",
              "      <th>DAVG</th>\n",
              "      <th>HMAX</th>\n",
              "      <th>...</th>\n",
              "      <th>S60NO</th>\n",
              "      <th>S60BD</th>\n",
              "      <th>TR05</th>\n",
              "      <th>R05BD</th>\n",
              "      <th>TR25</th>\n",
              "      <th>R25BD</th>\n",
              "      <th>TR60</th>\n",
              "      <th>R60BD</th>\n",
              "      <th>TR75</th>\n",
              "      <th>R75BD</th>\n",
              "    </tr>\n",
              "    <tr>\n",
              "      <th>datetime</th>\n",
              "      <th></th>\n",
              "      <th></th>\n",
              "      <th></th>\n",
              "      <th></th>\n",
              "      <th></th>\n",
              "      <th></th>\n",
              "      <th></th>\n",
              "      <th></th>\n",
              "      <th></th>\n",
              "      <th></th>\n",
              "      <th></th>\n",
              "      <th></th>\n",
              "      <th></th>\n",
              "      <th></th>\n",
              "      <th></th>\n",
              "      <th></th>\n",
              "      <th></th>\n",
              "      <th></th>\n",
              "      <th></th>\n",
              "      <th></th>\n",
              "      <th></th>\n",
              "    </tr>\n",
              "  </thead>\n",
              "  <tbody>\n",
              "    <tr>\n",
              "      <th>2012-01-01</th>\n",
              "      <td>2012</td>\n",
              "      <td>1</td>\n",
              "      <td>1</td>\n",
              "      <td>50.7400</td>\n",
              "      <td>36.0000</td>\n",
              "      <td>43.1100</td>\n",
              "      <td>31.1300</td>\n",
              "      <td>20.0300</td>\n",
              "      <td>25.7100</td>\n",
              "      <td>68.4200</td>\n",
              "      <td>...</td>\n",
              "      <td>-999.0000</td>\n",
              "      <td>-999.0000</td>\n",
              "      <td>2.1989</td>\n",
              "      <td>0.0000</td>\n",
              "      <td>1.9472</td>\n",
              "      <td>0.0000</td>\n",
              "      <td>1.7269</td>\n",
              "      <td>0.0000</td>\n",
              "      <td>-999.0000</td>\n",
              "      <td>-999.0000</td>\n",
              "    </tr>\n",
              "    <tr>\n",
              "      <th>2012-01-02</th>\n",
              "      <td>2012</td>\n",
              "      <td>1</td>\n",
              "      <td>2</td>\n",
              "      <td>44.0100</td>\n",
              "      <td>24.0600</td>\n",
              "      <td>34.5000</td>\n",
              "      <td>25.6100</td>\n",
              "      <td>6.9700</td>\n",
              "      <td>16.8400</td>\n",
              "      <td>79.6600</td>\n",
              "      <td>...</td>\n",
              "      <td>-999.0000</td>\n",
              "      <td>-999.0000</td>\n",
              "      <td>2.2615</td>\n",
              "      <td>0.0000</td>\n",
              "      <td>1.9817</td>\n",
              "      <td>0.0000</td>\n",
              "      <td>1.7346</td>\n",
              "      <td>0.0000</td>\n",
              "      <td>-999.0000</td>\n",
              "      <td>-999.0000</td>\n",
              "    </tr>\n",
              "    <tr>\n",
              "      <th>2012-01-03</th>\n",
              "      <td>2012</td>\n",
              "      <td>1</td>\n",
              "      <td>3</td>\n",
              "      <td>59.2500</td>\n",
              "      <td>24.6400</td>\n",
              "      <td>42.7100</td>\n",
              "      <td>27.7000</td>\n",
              "      <td>15.7700</td>\n",
              "      <td>21.3600</td>\n",
              "      <td>82.3000</td>\n",
              "      <td>...</td>\n",
              "      <td>-999.0000</td>\n",
              "      <td>-999.0000</td>\n",
              "      <td>2.3137</td>\n",
              "      <td>0.0000</td>\n",
              "      <td>2.0139</td>\n",
              "      <td>0.0000</td>\n",
              "      <td>1.7476</td>\n",
              "      <td>0.0000</td>\n",
              "      <td>-999.0000</td>\n",
              "      <td>-999.0000</td>\n",
              "    </tr>\n",
              "    <tr>\n",
              "      <th>2012-01-04</th>\n",
              "      <td>2012</td>\n",
              "      <td>1</td>\n",
              "      <td>4</td>\n",
              "      <td>58.7700</td>\n",
              "      <td>30.9300</td>\n",
              "      <td>44.8400</td>\n",
              "      <td>30.9400</td>\n",
              "      <td>23.8300</td>\n",
              "      <td>28.0400</td>\n",
              "      <td>83.1000</td>\n",
              "      <td>...</td>\n",
              "      <td>-999.0000</td>\n",
              "      <td>-999.0000</td>\n",
              "      <td>2.3675</td>\n",
              "      <td>0.0000</td>\n",
              "      <td>2.0433</td>\n",
              "      <td>0.0000</td>\n",
              "      <td>1.7589</td>\n",
              "      <td>0.0000</td>\n",
              "      <td>-999.0000</td>\n",
              "      <td>-999.0000</td>\n",
              "    </tr>\n",
              "    <tr>\n",
              "      <th>2012-01-05</th>\n",
              "      <td>2012</td>\n",
              "      <td>1</td>\n",
              "      <td>5</td>\n",
              "      <td>66.5200</td>\n",
              "      <td>28.1500</td>\n",
              "      <td>48.8500</td>\n",
              "      <td>32.1600</td>\n",
              "      <td>22.9400</td>\n",
              "      <td>27.7400</td>\n",
              "      <td>90.7000</td>\n",
              "      <td>...</td>\n",
              "      <td>-999.0000</td>\n",
              "      <td>-999.0000</td>\n",
              "      <td>2.4333</td>\n",
              "      <td>0.0000</td>\n",
              "      <td>2.0717</td>\n",
              "      <td>0.0000</td>\n",
              "      <td>1.7689</td>\n",
              "      <td>0.0000</td>\n",
              "      <td>-999.0000</td>\n",
              "      <td>-999.0000</td>\n",
              "    </tr>\n",
              "  </tbody>\n",
              "</table>\n",
              "<p>5 rows × 117 columns</p>\n",
              "</div>\n",
              "      <button class=\"colab-df-convert\" onclick=\"convertToInteractive('df-bce08a3b-6c4d-4245-ad61-5fc423b72fa0')\"\n",
              "              title=\"Convert this dataframe to an interactive table.\"\n",
              "              style=\"display:none;\">\n",
              "        \n",
              "  <svg xmlns=\"http://www.w3.org/2000/svg\" height=\"24px\"viewBox=\"0 0 24 24\"\n",
              "       width=\"24px\">\n",
              "    <path d=\"M0 0h24v24H0V0z\" fill=\"none\"/>\n",
              "    <path d=\"M18.56 5.44l.94 2.06.94-2.06 2.06-.94-2.06-.94-.94-2.06-.94 2.06-2.06.94zm-11 1L8.5 8.5l.94-2.06 2.06-.94-2.06-.94L8.5 2.5l-.94 2.06-2.06.94zm10 10l.94 2.06.94-2.06 2.06-.94-2.06-.94-.94-2.06-.94 2.06-2.06.94z\"/><path d=\"M17.41 7.96l-1.37-1.37c-.4-.4-.92-.59-1.43-.59-.52 0-1.04.2-1.43.59L10.3 9.45l-7.72 7.72c-.78.78-.78 2.05 0 2.83L4 21.41c.39.39.9.59 1.41.59.51 0 1.02-.2 1.41-.59l7.78-7.78 2.81-2.81c.8-.78.8-2.07 0-2.86zM5.41 20L4 18.59l7.72-7.72 1.47 1.35L5.41 20z\"/>\n",
              "  </svg>\n",
              "      </button>\n",
              "      \n",
              "  <style>\n",
              "    .colab-df-container {\n",
              "      display:flex;\n",
              "      flex-wrap:wrap;\n",
              "      gap: 12px;\n",
              "    }\n",
              "\n",
              "    .colab-df-convert {\n",
              "      background-color: #E8F0FE;\n",
              "      border: none;\n",
              "      border-radius: 50%;\n",
              "      cursor: pointer;\n",
              "      display: none;\n",
              "      fill: #1967D2;\n",
              "      height: 32px;\n",
              "      padding: 0 0 0 0;\n",
              "      width: 32px;\n",
              "    }\n",
              "\n",
              "    .colab-df-convert:hover {\n",
              "      background-color: #E2EBFA;\n",
              "      box-shadow: 0px 1px 2px rgba(60, 64, 67, 0.3), 0px 1px 3px 1px rgba(60, 64, 67, 0.15);\n",
              "      fill: #174EA6;\n",
              "    }\n",
              "\n",
              "    [theme=dark] .colab-df-convert {\n",
              "      background-color: #3B4455;\n",
              "      fill: #D2E3FC;\n",
              "    }\n",
              "\n",
              "    [theme=dark] .colab-df-convert:hover {\n",
              "      background-color: #434B5C;\n",
              "      box-shadow: 0px 1px 3px 1px rgba(0, 0, 0, 0.15);\n",
              "      filter: drop-shadow(0px 1px 2px rgba(0, 0, 0, 0.3));\n",
              "      fill: #FFFFFF;\n",
              "    }\n",
              "  </style>\n",
              "\n",
              "      <script>\n",
              "        const buttonEl =\n",
              "          document.querySelector('#df-bce08a3b-6c4d-4245-ad61-5fc423b72fa0 button.colab-df-convert');\n",
              "        buttonEl.style.display =\n",
              "          google.colab.kernel.accessAllowed ? 'block' : 'none';\n",
              "\n",
              "        async function convertToInteractive(key) {\n",
              "          const element = document.querySelector('#df-bce08a3b-6c4d-4245-ad61-5fc423b72fa0');\n",
              "          const dataTable =\n",
              "            await google.colab.kernel.invokeFunction('convertToInteractive',\n",
              "                                                     [key], {});\n",
              "          if (!dataTable) return;\n",
              "\n",
              "          const docLinkHtml = 'Like what you see? Visit the ' +\n",
              "            '<a target=\"_blank\" href=https://colab.research.google.com/notebooks/data_table.ipynb>data table notebook</a>'\n",
              "            + ' to learn more about interactive tables.';\n",
              "          element.innerHTML = '';\n",
              "          dataTable['output_type'] = 'display_data';\n",
              "          await google.colab.output.renderOutput(dataTable, element);\n",
              "          const docLink = document.createElement('div');\n",
              "          docLink.innerHTML = docLinkHtml;\n",
              "          element.appendChild(docLink);\n",
              "        }\n",
              "      </script>\n",
              "    </div>\n",
              "  </div>\n",
              "  "
            ]
          },
          "metadata": {},
          "execution_count": 184
        }
      ]
    },
    {
      "cell_type": "code",
      "source": [
        "monthly_rainfall"
      ],
      "metadata": {
        "colab": {
          "base_uri": "https://localhost:8080/"
        },
        "id": "u1Pr3JN4M23K",
        "outputId": "af7c3111-1038-4b9e-acbb-b358b8055456"
      },
      "execution_count": 186,
      "outputs": [
        {
          "output_type": "execute_result",
          "data": {
            "text/plain": [
              "datetime\n",
              "2012-01-31   1.3800\n",
              "2012-02-29   0.9400\n",
              "2012-03-31   4.4900\n",
              "2012-04-30   5.1800\n",
              "2012-05-31   3.4800\n",
              "              ...  \n",
              "2022-04-30   2.5600\n",
              "2022-05-31   8.6800\n",
              "2022-06-30   5.3400\n",
              "2022-07-31   1.6500\n",
              "2022-08-31   2.5700\n",
              "Freq: M, Name: RAIN, Length: 128, dtype: float64"
            ]
          },
          "metadata": {},
          "execution_count": 186
        }
      ]
    },
    {
      "cell_type": "code",
      "source": [
        "type(distribution)"
      ],
      "metadata": {
        "colab": {
          "base_uri": "https://localhost:8080/",
          "height": 165
        },
        "id": "hFzN2SIrNNVR",
        "outputId": "68b70a0e-53bf-49ee-a056-a32932b43083"
      },
      "execution_count": 187,
      "outputs": [
        {
          "output_type": "error",
          "ename": "NameError",
          "evalue": "ignored",
          "traceback": [
            "\u001b[0;31m---------------------------------------------------------------------------\u001b[0m",
            "\u001b[0;31mNameError\u001b[0m                                 Traceback (most recent call last)",
            "\u001b[0;32m<ipython-input-187-ddb315489959>\u001b[0m in \u001b[0;36m<cell line: 1>\u001b[0;34m()\u001b[0m\n\u001b[0;32m----> 1\u001b[0;31m \u001b[0mtype\u001b[0m\u001b[0;34m(\u001b[0m\u001b[0mdistribution\u001b[0m\u001b[0;34m)\u001b[0m\u001b[0;34m\u001b[0m\u001b[0;34m\u001b[0m\u001b[0m\n\u001b[0m",
            "\u001b[0;31mNameError\u001b[0m: name 'distribution' is not defined"
          ]
        }
      ]
    },
    {
      "cell_type": "code",
      "source": [
        "import pandas as pd\n",
        "import numpy as np\n",
        "from scipy.stats import gamma\n",
        "# Step 1: Calculate monthly total rainfall\n",
        "monthly_rainfall = df_okce['RAIN'].resample('M').sum()\n",
        "a = 1\n",
        "# Step 2: Calculate long-term average monthly rainfall\n",
        "long_term_avg = monthly_rainfall.mean()\n",
        "\n",
        "# Step 3: Calculate SPI\n",
        "def calculate_SPI(x, distribution):\n",
        "    \"\"\"\n",
        "    Function to calculate the Standardized Precipitation Index (SPI)\n",
        "    \"\"\"\n",
        "    x = np.asarray(x)\n",
        "    params = distribution.fit(x)\n",
        "    print(params)\n",
        "    cdf = distribution.cdf(x, *params)\n",
        "    inv_cdf = gamma.ppf(1, cdf)\n",
        "    spi = (inv_cdf - np.mean(inv_cdf)) / np.std(inv_cdf)\n",
        "    return spi\n",
        "\n",
        "SPI = calculate_SPI(monthly_rainfall, gamma)\n"
      ],
      "metadata": {
        "colab": {
          "base_uri": "https://localhost:8080/"
        },
        "id": "hi-xplH-MdmN",
        "outputId": "8f333306-f27f-4857-b48e-c74fccb54d58"
      },
      "execution_count": 199,
      "outputs": [
        {
          "output_type": "stream",
          "name": "stdout",
          "text": [
            "(1.0714221139266469, 0.09729948759867835, 3.027046508748529)\n"
          ]
        }
      ]
    },
    {
      "cell_type": "code",
      "source": [
        "SPI"
      ],
      "metadata": {
        "colab": {
          "base_uri": "https://localhost:8080/"
        },
        "id": "of3dgxMGOPS7",
        "outputId": "19065e1b-7241-41bb-f5fa-9591b9fc8241"
      },
      "execution_count": 200,
      "outputs": [
        {
          "output_type": "execute_result",
          "data": {
            "text/plain": [
              "array([nan, nan, nan, nan, nan, nan, nan, nan, nan, nan, nan, nan, nan,\n",
              "       nan, nan, nan, nan, nan, nan, nan, nan, nan, nan, nan, nan, nan,\n",
              "       nan, nan, nan, nan, nan, nan, nan, nan, nan, nan, nan, nan, nan,\n",
              "       nan, nan, nan, nan, nan, nan, nan, nan, nan, nan, nan, nan, nan,\n",
              "       nan, nan, nan, nan, nan, nan, nan, nan, nan, nan, nan, nan, nan,\n",
              "       nan, nan, nan, nan, nan, nan, nan, nan, nan, nan, nan, nan, nan,\n",
              "       nan, nan, nan, nan, nan, nan, nan, nan, nan, nan, nan, nan, nan,\n",
              "       nan, nan, nan, nan, nan, nan, nan, nan, nan, nan, nan, nan, nan,\n",
              "       nan, nan, nan, nan, nan, nan, nan, nan, nan, nan, nan, nan, nan,\n",
              "       nan, nan, nan, nan, nan, nan, nan, nan, nan, nan, nan])"
            ]
          },
          "metadata": {},
          "execution_count": 200
        }
      ]
    },
    {
      "cell_type": "code",
      "source": [
        "l1"
      ],
      "metadata": {
        "colab": {
          "base_uri": "https://localhost:8080/"
        },
        "id": "H5p3igyAOguM",
        "outputId": "8290cec0-ecfd-4dcb-e2f9-61f293911a37"
      },
      "execution_count": 195,
      "outputs": [
        {
          "output_type": "execute_result",
          "data": {
            "text/plain": [
              "['YEAR',\n",
              " 'MONTH',\n",
              " 'DAY',\n",
              " 'TMAX',\n",
              " 'TMIN',\n",
              " 'TAVG',\n",
              " 'DMAX',\n",
              " 'DMIN',\n",
              " 'DAVG',\n",
              " 'HMAX',\n",
              " 'HMIN',\n",
              " 'HAVG',\n",
              " 'VDEF',\n",
              " '9AVG',\n",
              " 'HDEG',\n",
              " 'CDEG',\n",
              " 'HTMX',\n",
              " 'WCMN',\n",
              " 'PDIR',\n",
              " 'PDFQ',\n",
              " 'SDIR',\n",
              " 'SDFQ',\n",
              " 'WSMX',\n",
              " 'WSMN',\n",
              " 'WSPD',\n",
              " 'WDEV',\n",
              " 'WMAX',\n",
              " '2MAX',\n",
              " '2MIN',\n",
              " '2AVG',\n",
              " '2DEV',\n",
              " 'PMAX',\n",
              " 'PMIN',\n",
              " 'PAVG',\n",
              " 'MSLP',\n",
              " 'AMAX',\n",
              " 'ATOT',\n",
              " 'RAIN',\n",
              " 'RNUM',\n",
              " 'RMAX',\n",
              " 'SMAX',\n",
              " 'SMIN',\n",
              " 'SAVG',\n",
              " 'BMAX',\n",
              " 'BMIN',\n",
              " 'BAVG',\n",
              " 'S5MX',\n",
              " 'S5MN',\n",
              " 'S5AV',\n",
              " 'B5MX',\n",
              " 'B5MN',\n",
              " 'B5AV',\n",
              " 'S25X',\n",
              " 'S25N',\n",
              " 'S25AV',\n",
              " 'S3MX',\n",
              " 'S3MN',\n",
              " 'S3AV',\n",
              " 'S60X',\n",
              " 'S60N',\n",
              " 'S60AV',\n",
              " 'TMAXO',\n",
              " 'TMINO',\n",
              " 'TBAD',\n",
              " 'DMAXO',\n",
              " 'DMINO',\n",
              " 'DBAD',\n",
              " 'HMAXO',\n",
              " 'HMINO',\n",
              " 'HBAD',\n",
              " '9BAD',\n",
              " '2BAD',\n",
              " 'HTMXO',\n",
              " 'HTBAD',\n",
              " 'WCMNO',\n",
              " 'WCBAD',\n",
              " 'PMAXO',\n",
              " 'PMINO',\n",
              " 'PBAD',\n",
              " 'AMAXO',\n",
              " 'ABAD',\n",
              " 'IBAD',\n",
              " 'WSMXO',\n",
              " 'WSMNO',\n",
              " 'WMAXO',\n",
              " 'WBAD',\n",
              " 'RBAD',\n",
              " 'SMAXO',\n",
              " 'SMINO',\n",
              " 'SBAD',\n",
              " 'BMAXO',\n",
              " 'BMINO',\n",
              " 'BBAD',\n",
              " 'S5MXO',\n",
              " 'S5MNO',\n",
              " 'S5BD',\n",
              " 'B5MX.1',\n",
              " 'B5MXO',\n",
              " 'B5MNO',\n",
              " 'B5BD',\n",
              " 'S25XO',\n",
              " 'S25NO',\n",
              " 'S25BD',\n",
              " 'S3MXO',\n",
              " 'S3MNO',\n",
              " 'S3BD',\n",
              " 'S60XO',\n",
              " 'S60NO',\n",
              " 'S60BD',\n",
              " 'TR05',\n",
              " 'R05BD',\n",
              " 'TR25',\n",
              " 'R25BD',\n",
              " 'TR60',\n",
              " 'R60BD',\n",
              " 'TR75',\n",
              " 'R75BD']"
            ]
          },
          "metadata": {},
          "execution_count": 195
        }
      ]
    },
    {
      "cell_type": "code",
      "source": [
        "\n",
        "# Step 4: Build a multivariate time series model\n",
        "# Example using VAR model from statsmodels\n",
        "from statsmodels.tsa.vector_ar.var_model import VAR\n",
        "\n",
        "# Define predictors and target variable\n",
        "predictors = df_okce[l1]\n",
        "target = df_okce['SPI']\n",
        "\n",
        "# Split data into training and testing sets\n",
        "train_size = int(len(df) * 0.7)\n",
        "train, test = df.iloc[:train_size,:], df.iloc[train_size:,:]\n",
        "\n",
        "# Fit the VAR model\n",
        "model = VAR(train[['TMAX', 'TMIN', 'DMAX', 'DMIN', 'SPI']])\n",
        "results = model.fit()\n",
        "\n",
        "# Make predictions on test data\n",
        "lag_order = results.k_ar\n",
        "test_pred = results.forecast(test[['TMAX', 'TMIN', 'DMAX', 'DMIN', 'SPI']].values, len(test))\n",
        "\n",
        "# Evaluate model performance\n",
        "from sklearn.metrics import mean_squared_error, r2_score\n",
        "\n",
        "rmse = np.sqrt(mean_squared_error(test['SPI'], test_pred[:,4]))\n",
        "r2 = r2_score(test['SPI'], test_pred[:,4])\n",
        "\n",
        "print(\"RMSE:\", rmse)\n",
        "print(\"R2 score:\", r2)\n"
      ],
      "metadata": {
        "colab": {
          "base_uri": "https://localhost:8080/",
          "height": 502
        },
        "id": "NOzk31TkHKMR",
        "outputId": "b75dec30-b359-4057-cd1a-17e321302853"
      },
      "execution_count": 197,
      "outputs": [
        {
          "output_type": "error",
          "ename": "KeyError",
          "evalue": "ignored",
          "traceback": [
            "\u001b[0;31m---------------------------------------------------------------------------\u001b[0m",
            "\u001b[0;31mKeyError\u001b[0m                                  Traceback (most recent call last)",
            "\u001b[0;32m/usr/local/lib/python3.9/dist-packages/pandas/core/indexes/base.py\u001b[0m in \u001b[0;36mget_loc\u001b[0;34m(self, key, method, tolerance)\u001b[0m\n\u001b[1;32m   3801\u001b[0m             \u001b[0;32mtry\u001b[0m\u001b[0;34m:\u001b[0m\u001b[0;34m\u001b[0m\u001b[0;34m\u001b[0m\u001b[0m\n\u001b[0;32m-> 3802\u001b[0;31m                 \u001b[0;32mreturn\u001b[0m \u001b[0mself\u001b[0m\u001b[0;34m.\u001b[0m\u001b[0m_engine\u001b[0m\u001b[0;34m.\u001b[0m\u001b[0mget_loc\u001b[0m\u001b[0;34m(\u001b[0m\u001b[0mcasted_key\u001b[0m\u001b[0;34m)\u001b[0m\u001b[0;34m\u001b[0m\u001b[0;34m\u001b[0m\u001b[0m\n\u001b[0m\u001b[1;32m   3803\u001b[0m             \u001b[0;32mexcept\u001b[0m \u001b[0mKeyError\u001b[0m \u001b[0;32mas\u001b[0m \u001b[0merr\u001b[0m\u001b[0;34m:\u001b[0m\u001b[0;34m\u001b[0m\u001b[0;34m\u001b[0m\u001b[0m\n",
            "\u001b[0;32m/usr/local/lib/python3.9/dist-packages/pandas/_libs/index.pyx\u001b[0m in \u001b[0;36mpandas._libs.index.IndexEngine.get_loc\u001b[0;34m()\u001b[0m\n",
            "\u001b[0;32m/usr/local/lib/python3.9/dist-packages/pandas/_libs/index.pyx\u001b[0m in \u001b[0;36mpandas._libs.index.IndexEngine.get_loc\u001b[0;34m()\u001b[0m\n",
            "\u001b[0;32mpandas/_libs/hashtable_class_helper.pxi\u001b[0m in \u001b[0;36mpandas._libs.hashtable.PyObjectHashTable.get_item\u001b[0;34m()\u001b[0m\n",
            "\u001b[0;32mpandas/_libs/hashtable_class_helper.pxi\u001b[0m in \u001b[0;36mpandas._libs.hashtable.PyObjectHashTable.get_item\u001b[0;34m()\u001b[0m\n",
            "\u001b[0;31mKeyError\u001b[0m: 'SPI'",
            "\nThe above exception was the direct cause of the following exception:\n",
            "\u001b[0;31mKeyError\u001b[0m                                  Traceback (most recent call last)",
            "\u001b[0;32m<ipython-input-197-083af2c56002>\u001b[0m in \u001b[0;36m<cell line: 7>\u001b[0;34m()\u001b[0m\n\u001b[1;32m      5\u001b[0m \u001b[0;31m# Define predictors and target variable\u001b[0m\u001b[0;34m\u001b[0m\u001b[0;34m\u001b[0m\u001b[0m\n\u001b[1;32m      6\u001b[0m \u001b[0mpredictors\u001b[0m \u001b[0;34m=\u001b[0m \u001b[0mdf_okce\u001b[0m\u001b[0;34m[\u001b[0m\u001b[0ml1\u001b[0m\u001b[0;34m]\u001b[0m\u001b[0;34m\u001b[0m\u001b[0;34m\u001b[0m\u001b[0m\n\u001b[0;32m----> 7\u001b[0;31m \u001b[0mtarget\u001b[0m \u001b[0;34m=\u001b[0m \u001b[0mdf_okce\u001b[0m\u001b[0;34m[\u001b[0m\u001b[0;34m'SPI'\u001b[0m\u001b[0;34m]\u001b[0m\u001b[0;34m\u001b[0m\u001b[0;34m\u001b[0m\u001b[0m\n\u001b[0m\u001b[1;32m      8\u001b[0m \u001b[0;34m\u001b[0m\u001b[0m\n\u001b[1;32m      9\u001b[0m \u001b[0;31m# Split data into training and testing sets\u001b[0m\u001b[0;34m\u001b[0m\u001b[0;34m\u001b[0m\u001b[0m\n",
            "\u001b[0;32m/usr/local/lib/python3.9/dist-packages/pandas/core/frame.py\u001b[0m in \u001b[0;36m__getitem__\u001b[0;34m(self, key)\u001b[0m\n\u001b[1;32m   3805\u001b[0m             \u001b[0;32mif\u001b[0m \u001b[0mself\u001b[0m\u001b[0;34m.\u001b[0m\u001b[0mcolumns\u001b[0m\u001b[0;34m.\u001b[0m\u001b[0mnlevels\u001b[0m \u001b[0;34m>\u001b[0m \u001b[0;36m1\u001b[0m\u001b[0;34m:\u001b[0m\u001b[0;34m\u001b[0m\u001b[0;34m\u001b[0m\u001b[0m\n\u001b[1;32m   3806\u001b[0m                 \u001b[0;32mreturn\u001b[0m \u001b[0mself\u001b[0m\u001b[0;34m.\u001b[0m\u001b[0m_getitem_multilevel\u001b[0m\u001b[0;34m(\u001b[0m\u001b[0mkey\u001b[0m\u001b[0;34m)\u001b[0m\u001b[0;34m\u001b[0m\u001b[0;34m\u001b[0m\u001b[0m\n\u001b[0;32m-> 3807\u001b[0;31m             \u001b[0mindexer\u001b[0m \u001b[0;34m=\u001b[0m \u001b[0mself\u001b[0m\u001b[0;34m.\u001b[0m\u001b[0mcolumns\u001b[0m\u001b[0;34m.\u001b[0m\u001b[0mget_loc\u001b[0m\u001b[0;34m(\u001b[0m\u001b[0mkey\u001b[0m\u001b[0;34m)\u001b[0m\u001b[0;34m\u001b[0m\u001b[0;34m\u001b[0m\u001b[0m\n\u001b[0m\u001b[1;32m   3808\u001b[0m             \u001b[0;32mif\u001b[0m \u001b[0mis_integer\u001b[0m\u001b[0;34m(\u001b[0m\u001b[0mindexer\u001b[0m\u001b[0;34m)\u001b[0m\u001b[0;34m:\u001b[0m\u001b[0;34m\u001b[0m\u001b[0;34m\u001b[0m\u001b[0m\n\u001b[1;32m   3809\u001b[0m                 \u001b[0mindexer\u001b[0m \u001b[0;34m=\u001b[0m \u001b[0;34m[\u001b[0m\u001b[0mindexer\u001b[0m\u001b[0;34m]\u001b[0m\u001b[0;34m\u001b[0m\u001b[0;34m\u001b[0m\u001b[0m\n",
            "\u001b[0;32m/usr/local/lib/python3.9/dist-packages/pandas/core/indexes/base.py\u001b[0m in \u001b[0;36mget_loc\u001b[0;34m(self, key, method, tolerance)\u001b[0m\n\u001b[1;32m   3802\u001b[0m                 \u001b[0;32mreturn\u001b[0m \u001b[0mself\u001b[0m\u001b[0;34m.\u001b[0m\u001b[0m_engine\u001b[0m\u001b[0;34m.\u001b[0m\u001b[0mget_loc\u001b[0m\u001b[0;34m(\u001b[0m\u001b[0mcasted_key\u001b[0m\u001b[0;34m)\u001b[0m\u001b[0;34m\u001b[0m\u001b[0;34m\u001b[0m\u001b[0m\n\u001b[1;32m   3803\u001b[0m             \u001b[0;32mexcept\u001b[0m \u001b[0mKeyError\u001b[0m \u001b[0;32mas\u001b[0m \u001b[0merr\u001b[0m\u001b[0;34m:\u001b[0m\u001b[0;34m\u001b[0m\u001b[0;34m\u001b[0m\u001b[0m\n\u001b[0;32m-> 3804\u001b[0;31m                 \u001b[0;32mraise\u001b[0m \u001b[0mKeyError\u001b[0m\u001b[0;34m(\u001b[0m\u001b[0mkey\u001b[0m\u001b[0;34m)\u001b[0m \u001b[0;32mfrom\u001b[0m \u001b[0merr\u001b[0m\u001b[0;34m\u001b[0m\u001b[0;34m\u001b[0m\u001b[0m\n\u001b[0m\u001b[1;32m   3805\u001b[0m             \u001b[0;32mexcept\u001b[0m \u001b[0mTypeError\u001b[0m\u001b[0;34m:\u001b[0m\u001b[0;34m\u001b[0m\u001b[0;34m\u001b[0m\u001b[0m\n\u001b[1;32m   3806\u001b[0m                 \u001b[0;31m# If we have a listlike key, _check_indexing_error will raise\u001b[0m\u001b[0;34m\u001b[0m\u001b[0;34m\u001b[0m\u001b[0m\n",
            "\u001b[0;31mKeyError\u001b[0m: 'SPI'"
          ]
        }
      ]
    },
    {
      "cell_type": "code",
      "source": [],
      "metadata": {
        "id": "KsZW3xEdOs_a"
      },
      "execution_count": null,
      "outputs": []
    }
  ]
}